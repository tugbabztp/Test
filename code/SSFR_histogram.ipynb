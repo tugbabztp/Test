{
 "cells": [
  {
   "cell_type": "code",
   "execution_count": 1,
   "metadata": {},
   "outputs": [],
   "source": [
    "import numpy as np"
   ]
  },
  {
   "cell_type": "code",
   "execution_count": 10,
   "metadata": {},
   "outputs": [],
   "source": [
    "import pandas as pd"
   ]
  },
  {
   "cell_type": "code",
   "execution_count": 11,
   "metadata": {},
   "outputs": [],
   "source": [
    "import matplotlib.pyplot as plt"
   ]
  },
  {
   "cell_type": "code",
   "execution_count": null,
   "metadata": {},
   "outputs": [],
   "source": [
    "import math "
   ]
  },
  {
   "cell_type": "code",
   "execution_count": 16,
   "metadata": {},
   "outputs": [],
   "source": [
    "import seaborn as sns"
   ]
  },
  {
   "cell_type": "code",
   "execution_count": 17,
   "metadata": {},
   "outputs": [],
   "source": [
    "data = pd.read_csv('galaxy1.csv', sep = ',')"
   ]
  },
  {
   "cell_type": "code",
   "execution_count": 18,
   "metadata": {},
   "outputs": [
    {
     "name": "stdout",
     "output_type": "stream",
     "text": [
      "       GalaxyID         GroupID  SnapNum  Redshift  CentreOfMass_x  \\\n",
      "0      21379523  26000000000000       26   0.18271        5.927712   \n",
      "1      21730537  26000000000003       26   0.18271       52.264893   \n",
      "2      21242352  26000000000004       26   0.18271       10.774976   \n",
      "3      21573588  26000000000002       26   0.18271        9.288896   \n",
      "4      21109762  26000000000001       26   0.18271       18.618362   \n",
      "5      21986363  26000000000006       26   0.18271       75.968440   \n",
      "6      19701411  26000000000008       26   0.18271       84.766710   \n",
      "7      20099627  26000000000009       26   0.18271       88.179460   \n",
      "8      20163970  26000000000011       26   0.18271       54.217976   \n",
      "9      18544430  26000000000000       26   0.18271        1.646505   \n",
      "10     19634931  26000000000010       26   0.18271       72.937740   \n",
      "11     18481116  26000000000001       26   0.18271       15.743982   \n",
      "12     20867357  26000000000014       26   0.18271       36.935287   \n",
      "13     20574263  26000000000015       26   0.18271       76.540070   \n",
      "14     21059564  26000000000018       26   0.18271       82.298240   \n",
      "15     15710023  26000000000006       26   0.18271       76.944960   \n",
      "16     21924777  26000000000005       26   0.18271       78.789795   \n",
      "17     18601018  26000000000019       26   0.18271       79.902054   \n",
      "18     14978117  26000000000005       26   0.18271       77.830850   \n",
      "19     14916081  26000000000002       26   0.18271        9.025057   \n",
      "20     20943534  26000000000013       26   0.18271       33.826160   \n",
      "21     18680977  26000000000023       26   0.18271       53.777775   \n",
      "22     20532196  26000000000012       26   0.18271       12.328944   \n",
      "23     18927204  26000000000029       26   0.18271       22.688766   \n",
      "24     18816266  26000000000033       26   0.18271       83.599970   \n",
      "25     18893255  26000000000032       26   0.18271       46.870780   \n",
      "26     19151263  26000000000040       26   0.18271       65.598710   \n",
      "27     21019893  26000000000017       26   0.18271       14.102559   \n",
      "28     18781591  26000000000030       26   0.18271       66.041000   \n",
      "29     18644988  26000000000026       26   0.18271       75.061860   \n",
      "...         ...             ...      ...       ...             ...   \n",
      "99970   4896235  26000100006145       26   0.18271        4.656332   \n",
      "99971  54442626  26000000000138       26   0.18271       97.001305   \n",
      "99972  59352902  26000000002231       26   0.18271       82.089000   \n",
      "99973  57844208  26001400003606       26   0.18271       41.864395   \n",
      "99974    929392  26000600001891       26   0.18271       21.863820   \n",
      "99975    926563  26000500005488       26   0.18271       50.596590   \n",
      "99976  61065414  26000500002670       26   0.18271       37.332930   \n",
      "99977    803795  26000500005114       26   0.18271       20.944403   \n",
      "99978  32830124  26000300004659       26   0.18271       80.767494   \n",
      "99979   1895192  26000700001659       26   0.18271       77.362650   \n",
      "99980    749825  26000600000082       26   0.18271       62.922394   \n",
      "99981    857516  26000500002401       26   0.18271       81.355530   \n",
      "99982  49825631  26000000000039       26   0.18271       35.480060   \n",
      "99983  63077052  26001200003838       26   0.18271        5.614278   \n",
      "99984   3749361  26000100001723       26   0.18271       73.260360   \n",
      "99985  58945672  26000200004524       26   0.18271       80.080894   \n",
      "99986  55049032  26003600004453       26   0.18271       42.375744   \n",
      "99987   5833806  26000200002787       26   0.18271       82.679420   \n",
      "99988  59993667  26002700004115       26   0.18271        9.536070   \n",
      "99989   3151168  26000000002670       26   0.18271       91.558480   \n",
      "99990  29701905  26004800003773       26   0.18271       92.219550   \n",
      "99991   1982365  26000700005733       26   0.18271       52.347775   \n",
      "99992  59633446  26000000003929       26   0.18271       94.121840   \n",
      "99993  52570785  26000000000076       26   0.18271       58.944767   \n",
      "99994  60447745  26001100006875       26   0.18271       37.904488   \n",
      "99995  59992590  26000000000002       26   0.18271        9.760302   \n",
      "99996  50837192  26000700006094       26   0.18271       87.124080   \n",
      "99997   1057439  26000600002723       26   0.18271       55.841190   \n",
      "99998  23376434  26000000003582       26   0.18271       19.041697   \n",
      "99999  63091034  26001300006727       26   0.18271       59.972645   \n",
      "\n",
      "       CentreOfMass_y  CentreOfMass_z  GroupNumber  SubGroupNumber  \\\n",
      "0           75.501650       47.334126            1               0   \n",
      "1            5.048345       20.154005            4               0   \n",
      "2           81.668144       55.286396            5               0   \n",
      "3           35.034924       54.263535            3               0   \n",
      "4           79.838490       54.131245            2               0   \n",
      "5           89.407490       41.755470            7               0   \n",
      "6           47.140728        8.232332            9               0   \n",
      "7           50.436966        4.407991           10               0   \n",
      "8           95.834790       20.049742           12               0   \n",
      "9           73.483060       48.117550            1               1   \n",
      "10          28.569948       26.712065           11               0   \n",
      "11          78.181390       52.681557            2               1   \n",
      "12          44.972790       97.360565           15               0   \n",
      "13          61.735676       71.453680           16               0   \n",
      "14          13.271403       57.979073           19               0   \n",
      "15          91.675390       41.629350            7               1   \n",
      "16          77.868950       43.034996            6               1   \n",
      "17           2.291060       40.336727           20               0   \n",
      "18          76.683810       42.014427            6               0   \n",
      "19          34.820766       55.085392            3               2   \n",
      "20          66.150390        9.184121           14               0   \n",
      "21          35.876556       34.423267           24               0   \n",
      "22          78.329540       43.803750           13               0   \n",
      "23          78.397290       49.360424           30               0   \n",
      "24          62.571377       44.924400           34               0   \n",
      "25          16.292086        8.366123           33               0   \n",
      "26          80.507810       63.115158           41               0   \n",
      "27          77.641530       48.920918           18               0   \n",
      "28          53.907490       83.395890           31               0   \n",
      "29          26.717940       61.444412           27               0   \n",
      "...               ...             ...          ...             ...   \n",
      "99970        5.308127       29.958370        13906               0   \n",
      "99971       43.582320       60.381023          139              55   \n",
      "99972       26.811909       50.669090         2232               3   \n",
      "99973       18.430107        4.140600       112247               0   \n",
      "99974       82.714770       64.036240        48452               0   \n",
      "99975       13.063445       13.109937        44289               0   \n",
      "99976       45.758244       98.410000        41471               0   \n",
      "99977       80.085340       58.548650        43915               0   \n",
      "99978       69.056750       86.393776        27940               1   \n",
      "99979       87.332270       49.537987        55980               0   \n",
      "99980       12.843445       25.269644        46643               0   \n",
      "99981       22.502522       18.958824        41202               1   \n",
      "99982       11.249255        7.413733           40              85   \n",
      "99983       47.050827       64.337585        96959               0   \n",
      "99984        4.201656       87.062530         9484               1   \n",
      "99985       41.146427       52.763214        20045               1   \n",
      "99986       80.720550       37.522140       283814               0   \n",
      "99987        8.981300       47.061245        18308               1   \n",
      "99988       36.706844       54.959095       213636               0   \n",
      "99989       58.075462       15.389778         2671               2   \n",
      "99990       69.733570       58.833984       376254               0   \n",
      "99991       86.529900       92.173355        60054               0   \n",
      "99992       64.562874       52.683876         3930               3   \n",
      "99993        9.555802       19.238678           77              94   \n",
      "99994        3.052027       33.055702        92236               0   \n",
      "99995       35.408660       54.050380            3             895   \n",
      "99996       64.208280       54.949177        60415               0   \n",
      "99997       47.797010       80.945250        49284               0   \n",
      "99998       80.747150       56.451927         3583               5   \n",
      "99999        3.107108       17.189537       107608               0   \n",
      "\n",
      "       MassType_Star  StarFormationRate  StellarVelDisp         Vmax  \n",
      "0       1.592714e+12          51.303875      629.105700  1106.510500  \n",
      "1       1.583770e+12          36.438904      445.490630   996.710940  \n",
      "2       1.234117e+12          23.436750      401.040620   841.136800  \n",
      "3       1.189408e+12          65.187965      448.119660   925.929570  \n",
      "4       1.039220e+12          14.379163      387.372800   818.194300  \n",
      "5       1.033151e+12           6.145234      356.586800   774.365800  \n",
      "6       7.470594e+11          16.201202      303.416470   697.866330  \n",
      "7       6.359325e+11          19.197706      302.924380   660.446200  \n",
      "8       6.355243e+11           4.006566      284.986100   628.263800  \n",
      "9       6.286286e+11           7.919405      269.903530   611.187400  \n",
      "10      6.241600e+11          12.905136      274.951300   632.862730  \n",
      "11      6.054944e+11           3.687825      292.356600   642.274230  \n",
      "12      5.750857e+11           2.678681      265.771820   582.474550  \n",
      "13      5.601855e+11           3.647086      271.542020   604.449160  \n",
      "14      5.026050e+11           3.088967      274.701600   614.367400  \n",
      "15      4.700249e+11           8.801509      238.324500   528.009640  \n",
      "16      4.661899e+11          19.951380      314.626430   576.091860  \n",
      "17      4.582328e+11           8.691780      264.397900   590.254760  \n",
      "18      4.517374e+11          18.868689      367.558530   664.251040  \n",
      "19      4.485844e+11           1.289679      260.709320   521.528100  \n",
      "20      4.434834e+11           4.689411      306.165860   604.495240  \n",
      "21      4.332871e+11          12.392499      240.241500   517.403600  \n",
      "22      4.273241e+11          19.276697      252.539490   544.930600  \n",
      "23      4.165282e+11          17.642996      242.347690   512.715640  \n",
      "24      4.093169e+11           1.082179      241.873780   503.146800  \n",
      "25      4.066598e+11           1.912929      265.728730   535.825700  \n",
      "26      3.946347e+11          13.517724      239.869220   505.636700  \n",
      "27      3.901936e+11           9.004410      234.503630   507.791720  \n",
      "28      3.815165e+11          10.778073      251.705930   537.088500  \n",
      "29      3.814072e+11          11.251099      255.193100   530.111760  \n",
      "...              ...                ...             ...          ...  \n",
      "99970   2.138223e+07           0.000000       23.406292    50.748455  \n",
      "99971   2.138216e+07           0.000000       20.999739    44.834710  \n",
      "99972   2.138214e+07           0.000000       21.274520    39.031136  \n",
      "99973   2.138191e+07           0.000000       20.656780    41.891247  \n",
      "99974   2.138186e+07           0.000000       24.989147    49.810154  \n",
      "99975   2.138168e+07           0.000000       22.284720    47.998960  \n",
      "99976   2.138100e+07           0.000000       21.208076    45.364956  \n",
      "99977   2.138002e+07           0.000000       27.876540    54.914875  \n",
      "99978   2.137996e+07           0.000000       19.744293    41.883297  \n",
      "99979   2.137991e+07           0.009528       23.655119    48.369682  \n",
      "99980   2.137917e+07           0.007947       16.248760    43.269737  \n",
      "99981   2.137872e+07           0.000000       18.189247    40.973022  \n",
      "99982   2.137872e+07           0.000000       22.231796    39.766220  \n",
      "99983   2.137858e+07           0.000000       19.473661    41.693142  \n",
      "99984   2.137835e+07           0.001562       17.667885    45.897778  \n",
      "99985   2.137804e+07           0.000000       15.822679    40.016838  \n",
      "99986   2.137750e+07           0.000000       16.457619    31.294370  \n",
      "99987   2.137732e+07           0.000000       15.969983    34.902515  \n",
      "99988   2.137718e+07           0.000000       18.926115    36.139046  \n",
      "99989   2.137653e+07           0.000000       24.054142    49.288560  \n",
      "99990   2.137635e+07           0.000000       17.153357    32.757120  \n",
      "99991   2.137589e+07           0.000000       26.238653    48.067894  \n",
      "99992   2.137585e+07           0.006902       27.279531    46.080467  \n",
      "99993   2.137578e+07           0.000000       22.267134    39.015630  \n",
      "99994   2.137549e+07           0.000000       16.673567    35.255924  \n",
      "99995   2.137542e+07           0.000000       17.477730    34.790127  \n",
      "99996   2.137481e+07           0.000000       19.513264    40.674793  \n",
      "99997   2.137434e+07           0.000000       19.550491    41.195120  \n",
      "99998   2.137317e+07           0.000000       11.285938    26.640783  \n",
      "99999   2.137226e+07           0.000000       20.257736    38.765490  \n",
      "\n",
      "[100000 rows x 13 columns]\n"
     ]
    }
   ],
   "source": [
    "print  data"
   ]
  },
  {
   "cell_type": "code",
   "execution_count": 110,
   "metadata": {},
   "outputs": [],
   "source": [
    "SFR = data['StarFormationRate']\n",
    "Staller_mass = data['MassType_Star']\n",
    "#logmstar = np.log(Stallermass)\n",
    "SSFR = SFR / Staller_mass\n",
    "#SSFR = SFR/10**(logmstar)\n",
    "#ssfr = math.log(SSFR)"
   ]
  },
  {
   "cell_type": "code",
   "execution_count": 122,
   "metadata": {
    "scrolled": true
   },
   "outputs": [
    {
     "name": "stdout",
     "output_type": "stream",
     "text": [
      "[ 0.52273672 -0.03884134  1.33976263  1.81432804 -1.29812409 -0.52880915\n",
      "  0.38920477 -0.77830635  0.60666905  0.55807449 -0.23228059 -0.24121119\n",
      " -0.52119142  0.51283155  1.48605583 -1.10179609  0.12486648  1.47179365\n",
      "  1.00575386  0.12949892  0.5572201  -0.55623011  0.39298662 -0.91374032\n",
      " -0.71717746  0.10423    -1.80526294 -0.8974748  -0.630353   -1.11293562\n",
      " -1.17117704 -1.78979766  1.878192    1.12171333  1.90989694  0.83157168\n",
      "  1.2317599   0.17136934  1.01446808  1.62602563  0.76804087  1.73026965\n",
      " -1.88850057  1.1583534  -1.91542602 -0.10797538  0.50526933 -0.13902225\n",
      " -0.11360553  0.6398682   0.14446125  2.13861596  1.52298309  1.28613166\n",
      " -1.6238938   0.80056593 -0.9405691  -0.16470333 -1.56949011 -2.1846426\n",
      "  0.72059358 -0.0456352  -0.5019306   1.14706672 -0.43150022 -2.12955506\n",
      " -1.15952909  0.60992077 -0.42935563  2.41854767 -0.81628593 -1.14639088\n",
      "  0.08782028  0.31163627 -1.05345084  0.1552387   0.62116638 -0.45882581\n",
      " -2.78034266  0.77526547 -1.57173411  1.86967057  0.76830234 -0.78904448\n",
      " -0.9837676   0.41929744 -0.09446156  1.30380409  0.08685229 -1.48885078\n",
      " -1.44975017 -0.59167169 -0.84380951 -0.0136012   0.71522941  1.55921773\n",
      " -2.60838594 -0.57762359  1.07521573  0.02246873  1.31879026  1.04509485\n",
      "  1.82562294 -0.8527977  -0.95568813 -0.7978093  -1.13808849  0.7436733\n",
      "  0.72219582 -0.52278116  0.19325706 -2.84718038 -0.34977551 -0.12442217\n",
      "  0.03541753 -0.73931003 -1.09090817  1.57026623  2.13314546  1.18145704\n",
      " -1.38597697 -0.68418529  1.46485288  0.62001491 -0.47410811 -0.11707027\n",
      "  0.62806472  0.93493682  0.44193176 -1.13360866  0.46082138 -0.70158731\n",
      "  0.67432278 -0.77385483  0.16437136  1.08605465  0.61894147 -1.67115126\n",
      "  0.82725398 -1.06845352  0.90960359  1.05182709 -1.38992882 -1.81927118\n",
      "  0.31623244 -0.69262617  0.72517324  1.96368053  1.43971776  0.88007061]\n"
     ]
    }
   ],
   "source": [
    "SSFR != 0\n",
    "print SSFR"
   ]
  },
  {
   "cell_type": "code",
   "execution_count": 123,
   "metadata": {
    "scrolled": true
   },
   "outputs": [
    {
     "data": {
      "text/plain": [
       "Text(0,0.5,u'y label name')"
      ]
     },
     "execution_count": 123,
     "metadata": {},
     "output_type": "execute_result"
    },
    {
     "data": {
      "image/png": "[encoded data removed]",
      "text/plain": [
       "<matplotlib.figure.Figure at 0x7f3392301110>"
      ]
     },
     "metadata": {},
     "output_type": "display_data"
    }
   ],
   "source": [
    "SSFR= np.random.randn(150)\n",
    "plt.hist(SSFR, bins = 20, normed = True, color=\"#DDFFDD\")\n",
    "plt.xlabel(\"x label name\")\n",
    "plt.ylabel(\"y label name\")"
   ]
  },
  {
   "cell_type": "code",
   "execution_count": null,
   "metadata": {},
   "outputs": [],
   "source": []
  },
  {
   "cell_type": "code",
   "execution_count": null,
   "metadata": {},
   "outputs": [],
   "source": []
  }
 ],
 "metadata": {
  "kernelspec": {
   "display_name": "Python 2",
   "language": "python",
   "name": "python2"
  },
  "language_info": {
   "codemirror_mode": {
    "name": "ipython",
    "version": 2
   },
   "file_extension": ".py",
   "mimetype": "text/x-python",
   "name": "python",
   "nbconvert_exporter": "python",
   "pygments_lexer": "ipython2",
   "version": "2.7.14"
  }
 },
 "nbformat": 4,
 "nbformat_minor": 2
}
