{
 "cells": [
  {
   "cell_type": "code",
   "execution_count": 1,
   "metadata": {},
   "outputs": [
    {
     "name": "stdout",
     "output_type": "stream",
     "text": [
      "Populating the interactive namespace from numpy and matplotlib\n"
     ]
    }
   ],
   "source": [
    "import numpy as np\n",
    "import matplotlib.pyplot as plt\n",
    "%pylab inline"
   ]
  },
  {
   "cell_type": "markdown",
   "metadata": {},
   "source": [
    "# Let's make some fake data which contains x,y,z coordinates of points in a box"
   ]
  },
  {
   "cell_type": "code",
   "execution_count": 10,
   "metadata": {},
   "outputs": [
    {
     "name": "stdout",
     "output_type": "stream",
     "text": [
      "15.556349186104045\n"
     ]
    }
   ],
   "source": [
    "coord1 = np.array([1,2,-5])\n",
    "coord2 = np.array([2,-2,10])\n",
    "\n",
    "l  = ((coord2[0] - coord1[0])**2 + (coord2[1] - coord1[1])**2 + (coord2[2] - coord1[2])**2)**.5\n",
    "print l"
   ]
  },
  {
   "cell_type": "code",
   "execution_count": 15,
   "metadata": {},
   "outputs": [
    {
     "data": {
      "text/plain": [
       "15.556349186104045"
      ]
     },
     "execution_count": 15,
     "metadata": {},
     "output_type": "execute_result"
    }
   ],
   "source": [
    "(np.sum((coord2-coord1)**2))**0.5"
   ]
  },
  {
   "cell_type": "code",
   "execution_count": 16,
   "metadata": {},
   "outputs": [
    {
     "name": "stdout",
     "output_type": "stream",
     "text": [
      "[[ 2 -2 10]\n",
      " [ 1  4  5]]\n"
     ]
    }
   ],
   "source": [
    "# this is 2 by 3 array containing the coordinates of two galaxies \n",
    "coord_rest  =  np.array([[2,-2,10],[1,4,5]])\n",
    "print coord_rest"
   ]
  },
  {
   "cell_type": "code",
   "execution_count": 19,
   "metadata": {},
   "outputs": [
    {
     "name": "stdout",
     "output_type": "stream",
     "text": [
      "coordinate of the galaxy [ 2 -2 10]\n",
      "distance between the galaxy and galaxy 1 15.556349186104045\n",
      "coordinate of the galaxy [1 4 5]\n",
      "distance between the galaxy and galaxy 1 10.198039027185569\n"
     ]
    }
   ],
   "source": [
    "for i in range(2): \n",
    "    \n",
    "    print \"coordinate of the galaxy\" , coord_rest[i]\n",
    "    \n",
    "    print \"distance between the galaxy and galaxy 1\" , (np.sum((coord_rest[i] - coord1)**2))**0.5"
   ]
  },
  {
   "cell_type": "code",
   "execution_count": 24,
   "metadata": {},
   "outputs": [
    {
     "name": "stdout",
     "output_type": "stream",
     "text": [
      "[[ 2 -2 10]\n",
      " [ 1  4  5]]\n",
      "[ 1  2 -5]\n"
     ]
    }
   ],
   "source": [
    "print coord_rest\n",
    "print coord1"
   ]
  },
  {
   "cell_type": "code",
   "execution_count": 26,
   "metadata": {},
   "outputs": [
    {
     "data": {
      "text/plain": [
       "array([[ 1, -4, 15],\n",
       "       [ 0,  2, 10]])"
      ]
     },
     "execution_count": 26,
     "metadata": {},
     "output_type": "execute_result"
    }
   ],
   "source": [
    "coord_rest - coord1[None,:]"
   ]
  },
  {
   "cell_type": "code",
   "execution_count": 28,
   "metadata": {},
   "outputs": [
    {
     "name": "stdout",
     "output_type": "stream",
     "text": [
      "[ 1 -4 15]\n",
      "[ 0  2 10]\n"
     ]
    }
   ],
   "source": [
    "for i in range(2): \n",
    "    \n",
    "    #print \"coordinate of the galaxy\" , coord_rest[i]\n",
    "    \n",
    "    print coord_rest[i] - coord1"
   ]
  },
  {
   "cell_type": "code",
   "execution_count": 29,
   "metadata": {},
   "outputs": [
    {
     "data": {
      "text/plain": [
       "array([[  1,  16, 225],\n",
       "       [  0,   4, 100]])"
      ]
     },
     "execution_count": 29,
     "metadata": {},
     "output_type": "execute_result"
    }
   ],
   "source": [
    "(coord_rest - coord1[None,:])**2"
   ]
  },
  {
   "cell_type": "code",
   "execution_count": 31,
   "metadata": {},
   "outputs": [
    {
     "data": {
      "text/plain": [
       "array([15.55634919, 10.19803903])"
      ]
     },
     "execution_count": 31,
     "metadata": {},
     "output_type": "execute_result"
    }
   ],
   "source": [
    "(np.sum( (coord_rest - coord1[None,:])**2 , axis = 1))**0.5"
   ]
  },
  {
   "cell_type": "code",
   "execution_count": null,
   "metadata": {},
   "outputs": [],
   "source": []
  },
  {
   "cell_type": "markdown",
   "metadata": {},
   "source": [
    "# A few examples about a cool trick in broadcasting (arr1 , arr2)"
   ]
  },
  {
   "cell_type": "code",
   "execution_count": 37,
   "metadata": {},
   "outputs": [
    {
     "name": "stdout",
     "output_type": "stream",
     "text": [
      "(2, 3)\n",
      "[[ 1  2  2]\n",
      " [ 3  2 45]]\n"
     ]
    }
   ],
   "source": [
    "arr1 = np.array([[1,2,2],[3,2,45]])\n",
    "print arr1.shape\n",
    "print arr1"
   ]
  },
  {
   "cell_type": "code",
   "execution_count": 38,
   "metadata": {},
   "outputs": [
    {
     "name": "stdout",
     "output_type": "stream",
     "text": [
      "(2,)\n",
      "[1 2]\n"
     ]
    }
   ],
   "source": [
    "arr2 = np.array([1,2])\n",
    "print arr2.shape\n",
    "print arr2"
   ]
  },
  {
   "cell_type": "code",
   "execution_count": 40,
   "metadata": {},
   "outputs": [
    {
     "name": "stdout",
     "output_type": "stream",
     "text": [
      "(3,)\n"
     ]
    },
    {
     "data": {
      "text/plain": [
       "array([1, 2, 3])"
      ]
     },
     "execution_count": 40,
     "metadata": {},
     "output_type": "execute_result"
    }
   ],
   "source": [
    "arr3 = np.array([1,2,3])\n",
    "print arr3.shape\n",
    "arr3"
   ]
  },
  {
   "cell_type": "code",
   "execution_count": 39,
   "metadata": {},
   "outputs": [
    {
     "data": {
      "text/plain": [
       "array([[ 1,  2,  2],\n",
       "       [ 6,  4, 90]])"
      ]
     },
     "execution_count": 39,
     "metadata": {},
     "output_type": "execute_result"
    }
   ],
   "source": [
    "arr1 * arr2[:,None]"
   ]
  },
  {
   "cell_type": "code",
   "execution_count": 41,
   "metadata": {},
   "outputs": [
    {
     "data": {
      "text/plain": [
       "array([[  1,   4,   6],\n",
       "       [  3,   4, 135]])"
      ]
     },
     "execution_count": 41,
     "metadata": {},
     "output_type": "execute_result"
    }
   ],
   "source": [
    "arr1 * arr3[None,:]"
   ]
  },
  {
   "cell_type": "markdown",
   "metadata": {},
   "source": [
    "# A few example about  np.sum"
   ]
  },
  {
   "cell_type": "code",
   "execution_count": 43,
   "metadata": {},
   "outputs": [
    {
     "data": {
      "text/plain": [
       "array([[ 1,  2,  2],\n",
       "       [ 3,  2, 45]])"
      ]
     },
     "execution_count": 43,
     "metadata": {},
     "output_type": "execute_result"
    }
   ],
   "source": [
    "arr1"
   ]
  },
  {
   "cell_type": "code",
   "execution_count": 44,
   "metadata": {},
   "outputs": [
    {
     "data": {
      "text/plain": [
       "55"
      ]
     },
     "execution_count": 44,
     "metadata": {},
     "output_type": "execute_result"
    }
   ],
   "source": [
    "np.sum(arr1)"
   ]
  },
  {
   "cell_type": "code",
   "execution_count": 45,
   "metadata": {},
   "outputs": [
    {
     "data": {
      "text/plain": [
       "array([ 4,  4, 47])"
      ]
     },
     "execution_count": 45,
     "metadata": {},
     "output_type": "execute_result"
    }
   ],
   "source": [
    "np.sum(arr1, axis = 0)"
   ]
  },
  {
   "cell_type": "code",
   "execution_count": 47,
   "metadata": {},
   "outputs": [
    {
     "data": {
      "text/plain": [
       "array([ 5, 50])"
      ]
     },
     "execution_count": 47,
     "metadata": {},
     "output_type": "execute_result"
    }
   ],
   "source": [
    "np.sum(arr1, axis = 1)"
   ]
  },
  {
   "cell_type": "markdown",
   "metadata": {},
   "source": [
    "Now let's look at a higher dimensional array"
   ]
  },
  {
   "cell_type": "code",
   "execution_count": 51,
   "metadata": {},
   "outputs": [
    {
     "name": "stdout",
     "output_type": "stream",
     "text": [
      "[[[0.43576836 0.9221568  0.79752544]\n",
      "  [0.06213021 0.81079375 0.03846438]\n",
      "  [0.71399978 0.81333921 0.92719043]]\n",
      "\n",
      " [[0.86903332 0.52574248 0.86767545]\n",
      "  [0.05663544 0.07513026 0.2253142 ]\n",
      "  [0.51126149 0.39418497 0.83106911]]]\n"
     ]
    }
   ],
   "source": [
    "Q = np.random.rand(2,3,3)\n",
    "print Q"
   ]
  },
  {
   "cell_type": "code",
   "execution_count": 53,
   "metadata": {},
   "outputs": [
    {
     "name": "stdout",
     "output_type": "stream",
     "text": [
      "[[1.30480168 1.44789928 1.66520089]\n",
      " [0.11876564 0.88592401 0.26377857]\n",
      " [1.22526127 1.20752418 1.75825955]]\n"
     ]
    }
   ],
   "source": [
    "print np.sum(Q, axis = 0)"
   ]
  },
  {
   "cell_type": "code",
   "execution_count": 54,
   "metadata": {},
   "outputs": [
    {
     "name": "stdout",
     "output_type": "stream",
     "text": [
      "[[1.21189835 2.54628977 1.76318025]\n",
      " [1.43693024 0.9950577  1.92405876]]\n"
     ]
    }
   ],
   "source": [
    "print np.sum(Q, axis = 1)"
   ]
  },
  {
   "cell_type": "code",
   "execution_count": 55,
   "metadata": {},
   "outputs": [
    {
     "name": "stdout",
     "output_type": "stream",
     "text": [
      "[[2.15545061 0.91138833 2.45452943]\n",
      " [2.26245125 0.35707989 1.73651557]]\n"
     ]
    }
   ],
   "source": [
    "print np.sum(Q, axis = 2)"
   ]
  },
  {
   "cell_type": "markdown",
   "metadata": {},
   "source": [
    "# A few examples regarding arr[i:j]"
   ]
  },
  {
   "cell_type": "code",
   "execution_count": 60,
   "metadata": {},
   "outputs": [
    {
     "name": "stdout",
     "output_type": "stream",
     "text": [
      "[0 4 2 5 6 7 1 2 6 9]\n"
     ]
    }
   ],
   "source": [
    "A = np.arange(10)\n",
    "#print A\n",
    "B = np.array([0,4,2,5,6,7,1,2,6,9])\n",
    "print B"
   ]
  },
  {
   "cell_type": "code",
   "execution_count": 62,
   "metadata": {},
   "outputs": [
    {
     "data": {
      "text/plain": [
       "array([7, 1, 2, 6])"
      ]
     },
     "execution_count": 62,
     "metadata": {},
     "output_type": "execute_result"
    }
   ],
   "source": [
    "B[5:9]"
   ]
  },
  {
   "cell_type": "code",
   "execution_count": 67,
   "metadata": {},
   "outputs": [
    {
     "name": "stdout",
     "output_type": "stream",
     "text": [
      "9\n",
      "6\n"
     ]
    }
   ],
   "source": [
    "print B[-1] \n",
    "print B[-2]"
   ]
  },
  {
   "cell_type": "code",
   "execution_count": 66,
   "metadata": {},
   "outputs": [
    {
     "data": {
      "text/plain": [
       "array([6])"
      ]
     },
     "execution_count": 66,
     "metadata": {},
     "output_type": "execute_result"
    }
   ],
   "source": [
    "B[-2:-1]"
   ]
  },
  {
   "cell_type": "markdown",
   "metadata": {},
   "source": [
    "# A few examples regarding masking numpy arrays"
   ]
  },
  {
   "cell_type": "code",
   "execution_count": 68,
   "metadata": {},
   "outputs": [],
   "source": [
    "A = 10 * np.random.rand(34)"
   ]
  },
  {
   "cell_type": "code",
   "execution_count": 69,
   "metadata": {},
   "outputs": [
    {
     "data": {
      "text/plain": [
       "array([8.54099034, 1.28701061, 8.51039101, 5.77622464, 6.10376005,\n",
       "       4.85747476, 5.38991348, 7.63320314, 4.48508993, 7.31128563,\n",
       "       6.47594407, 5.01083287, 1.62095808, 8.81156447, 9.70452054,\n",
       "       5.14771637, 7.16924883, 4.46491153, 6.38332588, 9.65197158,\n",
       "       7.85752058, 3.12788622, 8.40361061, 6.44472136, 7.69319428,\n",
       "       3.19737059, 1.23403046, 0.71110031, 1.55560767, 4.81227547,\n",
       "       6.03860167, 4.22471873, 4.96698703, 7.59810285])"
      ]
     },
     "execution_count": 69,
     "metadata": {},
     "output_type": "execute_result"
    }
   ],
   "source": [
    "A"
   ]
  },
  {
   "cell_type": "markdown",
   "metadata": {},
   "source": [
    "Now let's keep elements of A that are above 4"
   ]
  },
  {
   "cell_type": "code",
   "execution_count": 70,
   "metadata": {},
   "outputs": [],
   "source": [
    "mask = A>4"
   ]
  },
  {
   "cell_type": "code",
   "execution_count": 72,
   "metadata": {},
   "outputs": [
    {
     "data": {
      "text/plain": [
       "array([ True, False,  True,  True,  True,  True,  True,  True,  True,\n",
       "        True,  True,  True, False,  True,  True,  True,  True,  True,\n",
       "        True,  True,  True, False,  True,  True,  True, False, False,\n",
       "       False, False,  True,  True,  True,  True,  True])"
      ]
     },
     "execution_count": 72,
     "metadata": {},
     "output_type": "execute_result"
    }
   ],
   "source": [
    "mask"
   ]
  },
  {
   "cell_type": "code",
   "execution_count": 73,
   "metadata": {},
   "outputs": [
    {
     "data": {
      "text/plain": [
       "array([8.54099034, 8.51039101, 5.77622464, 6.10376005, 4.85747476,\n",
       "       5.38991348, 7.63320314, 4.48508993, 7.31128563, 6.47594407,\n",
       "       5.01083287, 8.81156447, 9.70452054, 5.14771637, 7.16924883,\n",
       "       4.46491153, 6.38332588, 9.65197158, 7.85752058, 8.40361061,\n",
       "       6.44472136, 7.69319428, 4.81227547, 6.03860167, 4.22471873,\n",
       "       4.96698703, 7.59810285])"
      ]
     },
     "execution_count": 73,
     "metadata": {},
     "output_type": "execute_result"
    }
   ],
   "source": [
    "A[mask]"
   ]
  },
  {
   "cell_type": "code",
   "execution_count": 76,
   "metadata": {},
   "outputs": [
    {
     "data": {
      "text/plain": [
       "array([8.54099034, 8.51039101, 5.77622464, 6.10376005, 4.85747476,\n",
       "       5.38991348, 7.63320314, 4.48508993, 7.31128563, 6.47594407,\n",
       "       5.01083287, 8.81156447, 9.70452054, 5.14771637, 7.16924883,\n",
       "       4.46491153, 6.38332588, 9.65197158, 7.85752058, 8.40361061,\n",
       "       6.44472136, 7.69319428, 4.81227547, 6.03860167, 4.22471873,\n",
       "       4.96698703, 7.59810285])"
      ]
     },
     "execution_count": 76,
     "metadata": {},
     "output_type": "execute_result"
    }
   ],
   "source": [
    "A[A>4]"
   ]
  },
  {
   "cell_type": "code",
   "execution_count": 74,
   "metadata": {},
   "outputs": [
    {
     "data": {
      "text/plain": [
       "array([False,  True, False, False, False, False, False, False, False,\n",
       "       False, False, False,  True, False, False, False, False, False,\n",
       "       False, False, False,  True, False, False, False,  True,  True,\n",
       "        True,  True, False, False, False, False, False])"
      ]
     },
     "execution_count": 74,
     "metadata": {},
     "output_type": "execute_result"
    }
   ],
   "source": [
    "~mask"
   ]
  },
  {
   "cell_type": "code",
   "execution_count": 75,
   "metadata": {},
   "outputs": [
    {
     "data": {
      "text/plain": [
       "array([1.28701061, 1.62095808, 3.12788622, 3.19737059, 1.23403046,\n",
       "       0.71110031, 1.55560767])"
      ]
     },
     "execution_count": 75,
     "metadata": {},
     "output_type": "execute_result"
    }
   ],
   "source": [
    "A[~mask]"
   ]
  },
  {
   "cell_type": "code",
   "execution_count": 77,
   "metadata": {},
   "outputs": [
    {
     "data": {
      "text/plain": [
       "array([1.28701061, 1.62095808, 3.12788622, 3.19737059, 1.23403046,\n",
       "       0.71110031, 1.55560767])"
      ]
     },
     "execution_count": 77,
     "metadata": {},
     "output_type": "execute_result"
    }
   ],
   "source": [
    "A[~(A>4)]"
   ]
  },
  {
   "cell_type": "markdown",
   "metadata": {},
   "source": [
    "Now let's look at some higher dimensional arrays"
   ]
  },
  {
   "cell_type": "code",
   "execution_count": 78,
   "metadata": {},
   "outputs": [],
   "source": [
    "B = 10*np.random.rand(34,3)"
   ]
  },
  {
   "cell_type": "code",
   "execution_count": 79,
   "metadata": {},
   "outputs": [
    {
     "data": {
      "text/plain": [
       "array([[7.74985678, 2.76730996, 0.88505262],\n",
       "       [7.28078444, 4.74629588, 0.59962287],\n",
       "       [0.05110999, 2.6285805 , 5.83533034],\n",
       "       [2.45333416, 2.8711551 , 7.59156432],\n",
       "       [7.31109141, 6.05096371, 5.60647528],\n",
       "       [9.47178103, 1.80302064, 1.35031191],\n",
       "       [1.42011148, 0.15355724, 2.5970873 ],\n",
       "       [9.57133226, 3.76169572, 1.89573186],\n",
       "       [5.57442712, 0.10182407, 3.61641004],\n",
       "       [7.39256212, 0.72234504, 7.92771347],\n",
       "       [9.88117024, 2.03222082, 5.19555611],\n",
       "       [6.33089372, 0.61477092, 2.32422357],\n",
       "       [0.03134309, 5.1906842 , 5.06564521],\n",
       "       [3.0877809 , 5.56286544, 6.92259139],\n",
       "       [3.05750208, 2.81064175, 5.03878658],\n",
       "       [3.2909273 , 7.10983101, 0.12815808],\n",
       "       [2.9704945 , 4.60161882, 3.76151655],\n",
       "       [3.7097513 , 3.52116952, 9.26107001],\n",
       "       [9.82089497, 9.48488236, 4.70141692],\n",
       "       [9.86987162, 9.24748594, 6.44275392],\n",
       "       [7.46364793, 7.01362575, 8.40300868],\n",
       "       [7.84663219, 7.90419478, 0.17976922],\n",
       "       [9.98903034, 6.15022447, 6.51568696],\n",
       "       [1.26178909, 4.51987705, 1.9991888 ],\n",
       "       [8.58454403, 2.17834784, 3.83282456],\n",
       "       [1.71489628, 6.94972274, 5.29603641],\n",
       "       [2.98520953, 7.35805174, 7.30619364],\n",
       "       [5.43956549, 0.02323927, 3.56084871],\n",
       "       [1.66629222, 0.27828095, 5.75626727],\n",
       "       [5.67501407, 6.37168772, 2.3279278 ],\n",
       "       [1.93941423, 7.24430191, 3.11963177],\n",
       "       [8.9563669 , 2.98135863, 4.53308896],\n",
       "       [3.88994123, 1.70233813, 6.654262  ],\n",
       "       [0.26290656, 3.71491261, 3.85534349]])"
      ]
     },
     "execution_count": 79,
     "metadata": {},
     "output_type": "execute_result"
    }
   ],
   "source": [
    "B"
   ]
  },
  {
   "cell_type": "code",
   "execution_count": 85,
   "metadata": {},
   "outputs": [
    {
     "data": {
      "text/plain": [
       "array([ True, False,  True,  True,  True,  True,  True,  True,  True,\n",
       "        True,  True,  True, False,  True,  True,  True,  True,  True,\n",
       "        True,  True,  True, False,  True,  True,  True, False, False,\n",
       "       False, False,  True,  True,  True,  True,  True])"
      ]
     },
     "execution_count": 85,
     "metadata": {},
     "output_type": "execute_result"
    }
   ],
   "source": [
    "mask_rows = A>4\n",
    "mask_rows"
   ]
  },
  {
   "cell_type": "code",
   "execution_count": 86,
   "metadata": {},
   "outputs": [
    {
     "data": {
      "text/plain": [
       "array([[7.74985678, 2.76730996, 0.88505262],\n",
       "       [0.05110999, 2.6285805 , 5.83533034],\n",
       "       [2.45333416, 2.8711551 , 7.59156432],\n",
       "       [7.31109141, 6.05096371, 5.60647528],\n",
       "       [9.47178103, 1.80302064, 1.35031191],\n",
       "       [1.42011148, 0.15355724, 2.5970873 ],\n",
       "       [9.57133226, 3.76169572, 1.89573186],\n",
       "       [5.57442712, 0.10182407, 3.61641004],\n",
       "       [7.39256212, 0.72234504, 7.92771347],\n",
       "       [9.88117024, 2.03222082, 5.19555611],\n",
       "       [6.33089372, 0.61477092, 2.32422357],\n",
       "       [3.0877809 , 5.56286544, 6.92259139],\n",
       "       [3.05750208, 2.81064175, 5.03878658],\n",
       "       [3.2909273 , 7.10983101, 0.12815808],\n",
       "       [2.9704945 , 4.60161882, 3.76151655],\n",
       "       [3.7097513 , 3.52116952, 9.26107001],\n",
       "       [9.82089497, 9.48488236, 4.70141692],\n",
       "       [9.86987162, 9.24748594, 6.44275392],\n",
       "       [7.46364793, 7.01362575, 8.40300868],\n",
       "       [9.98903034, 6.15022447, 6.51568696],\n",
       "       [1.26178909, 4.51987705, 1.9991888 ],\n",
       "       [8.58454403, 2.17834784, 3.83282456],\n",
       "       [5.67501407, 6.37168772, 2.3279278 ],\n",
       "       [1.93941423, 7.24430191, 3.11963177],\n",
       "       [8.9563669 , 2.98135863, 4.53308896],\n",
       "       [3.88994123, 1.70233813, 6.654262  ],\n",
       "       [0.26290656, 3.71491261, 3.85534349]])"
      ]
     },
     "execution_count": 86,
     "metadata": {},
     "output_type": "execute_result"
    }
   ],
   "source": [
    "B[mask_rows,:]"
   ]
  },
  {
   "cell_type": "code",
   "execution_count": 88,
   "metadata": {},
   "outputs": [
    {
     "name": "stdout",
     "output_type": "stream",
     "text": [
      "[0.98584383 1.46027181 6.66977679]\n"
     ]
    }
   ],
   "source": [
    "C = 10*np.random.rand(3)\n",
    "print C"
   ]
  },
  {
   "cell_type": "code",
   "execution_count": 89,
   "metadata": {},
   "outputs": [
    {
     "name": "stdout",
     "output_type": "stream",
     "text": [
      "[False False  True]\n"
     ]
    }
   ],
   "source": [
    "mask_column = C>4\n",
    "print mask_column"
   ]
  },
  {
   "cell_type": "code",
   "execution_count": 90,
   "metadata": {},
   "outputs": [
    {
     "data": {
      "text/plain": [
       "array([[0.88505262],\n",
       "       [0.59962287],\n",
       "       [5.83533034],\n",
       "       [7.59156432],\n",
       "       [5.60647528],\n",
       "       [1.35031191],\n",
       "       [2.5970873 ],\n",
       "       [1.89573186],\n",
       "       [3.61641004],\n",
       "       [7.92771347],\n",
       "       [5.19555611],\n",
       "       [2.32422357],\n",
       "       [5.06564521],\n",
       "       [6.92259139],\n",
       "       [5.03878658],\n",
       "       [0.12815808],\n",
       "       [3.76151655],\n",
       "       [9.26107001],\n",
       "       [4.70141692],\n",
       "       [6.44275392],\n",
       "       [8.40300868],\n",
       "       [0.17976922],\n",
       "       [6.51568696],\n",
       "       [1.9991888 ],\n",
       "       [3.83282456],\n",
       "       [5.29603641],\n",
       "       [7.30619364],\n",
       "       [3.56084871],\n",
       "       [5.75626727],\n",
       "       [2.3279278 ],\n",
       "       [3.11963177],\n",
       "       [4.53308896],\n",
       "       [6.654262  ],\n",
       "       [3.85534349]])"
      ]
     },
     "execution_count": 90,
     "metadata": {},
     "output_type": "execute_result"
    }
   ],
   "source": [
    "B[:,mask_column]"
   ]
  },
  {
   "cell_type": "markdown",
   "metadata": {},
   "source": [
    "# MEDIAN and AVERAGE (MEAN)"
   ]
  },
  {
   "cell_type": "code",
   "execution_count": 1,
   "metadata": {},
   "outputs": [],
   "source": [
    "import numpy as np"
   ]
  },
  {
   "cell_type": "code",
   "execution_count": 3,
   "metadata": {},
   "outputs": [],
   "source": [
    "arr = 10*np.random.rand(12)"
   ]
  },
  {
   "cell_type": "code",
   "execution_count": 4,
   "metadata": {},
   "outputs": [
    {
     "data": {
      "text/plain": [
       "array([7.41610554, 1.15562404, 1.6329942 , 5.60696042, 7.05131667,\n",
       "       0.3022866 , 3.65894374, 9.89097211, 3.44817849, 2.84168707,\n",
       "       0.54663045, 3.86409151])"
      ]
     },
     "execution_count": 4,
     "metadata": {},
     "output_type": "execute_result"
    }
   ],
   "source": [
    "arr"
   ]
  },
  {
   "cell_type": "code",
   "execution_count": 5,
   "metadata": {},
   "outputs": [
    {
     "data": {
      "text/plain": [
       "3.9513159027490374"
      ]
     },
     "execution_count": 5,
     "metadata": {},
     "output_type": "execute_result"
    }
   ],
   "source": [
    "np.mean(arr)"
   ]
  },
  {
   "cell_type": "code",
   "execution_count": 8,
   "metadata": {},
   "outputs": [
    {
     "data": {
      "text/plain": [
       "3.553561116091858"
      ]
     },
     "execution_count": 8,
     "metadata": {},
     "output_type": "execute_result"
    }
   ],
   "source": [
    "np.median(arr)"
   ]
  },
  {
   "cell_type": "code",
   "execution_count": 9,
   "metadata": {},
   "outputs": [
    {
     "name": "stdout",
     "output_type": "stream",
     "text": [
      "[1 2 4]\n",
      "[ 8 10 11]\n"
     ]
    }
   ],
   "source": [
    "arr = np.array([1,2,5,8,10,4,11])\n",
    "\n",
    "print arr[arr<5]\n",
    "print arr[arr>5]"
   ]
  },
  {
   "cell_type": "code",
   "execution_count": 10,
   "metadata": {},
   "outputs": [
    {
     "data": {
      "text/plain": [
       "5.0"
      ]
     },
     "execution_count": 10,
     "metadata": {},
     "output_type": "execute_result"
    }
   ],
   "source": [
    "np.median(arr)"
   ]
  },
  {
   "cell_type": "code",
   "execution_count": 11,
   "metadata": {},
   "outputs": [
    {
     "data": {
      "text/plain": [
       "array([ 1,  2,  4,  5,  8, 10, 11])"
      ]
     },
     "execution_count": 11,
     "metadata": {},
     "output_type": "execute_result"
    }
   ],
   "source": [
    "np.sort(arr)"
   ]
  }
 ],
 "metadata": {
  "kernelspec": {
   "display_name": "Python 2",
   "language": "python",
   "name": "python2"
  },
  "language_info": {
   "codemirror_mode": {
    "name": "ipython",
    "version": 2
   },
   "file_extension": ".py",
   "mimetype": "text/x-python",
   "name": "python",
   "nbconvert_exporter": "python",
   "pygments_lexer": "ipython2",
   "version": "2.7.15"
  }
 },
 "nbformat": 4,
 "nbformat_minor": 2
}
