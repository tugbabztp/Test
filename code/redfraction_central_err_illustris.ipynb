{
 "cells": [
  {
   "cell_type": "code",
   "execution_count": 1,
   "metadata": {},
   "outputs": [
    {
     "name": "stdout",
     "output_type": "stream",
     "text": [
      "Populating the interactive namespace from numpy and matplotlib\n"
     ]
    }
   ],
   "source": [
    "import pandas as pd\n",
    "import seaborn as sns\n",
    "import matplotlib.pyplot as plt\n",
    "import math\n",
    "import numpy as np\n",
    "from astropy.io import ascii\n",
    "%pylab inline\n",
    "import matplotlib\n",
    "import matplotlib.colors as colors\n",
    "import sklearn\n",
    "from sklearn.mixture import GMM"
   ]
  },
  {
   "cell_type": "code",
   "execution_count": 2,
   "metadata": {},
   "outputs": [],
   "source": [
    "#sns.reset_defaults()\n",
    "sns.set_context(\"notebook\", font_scale=1.0, rc={\"lines.linewidth\": 2.5})\n",
    "sns.set_palette(sns.color_palette([\"#9b59b6\", \n",
    "                                   \"#e74c3c\", \"#3498db\", \n",
    "                                   \"#34495e\", \"#2ecc71\"]))\n",
    "matplotlib.rcParams['mathtext.fontset'] = 'stix'\n",
    "matplotlib.rcParams['font.family'] = 'STIXGeneral'"
   ]
  },
  {
   "cell_type": "code",
   "execution_count": 3,
   "metadata": {},
   "outputs": [],
   "source": [
    "# Pandas reads from *lots* of different data sources\n",
    "data = pd.read_csv('../data/galaxy_all.csv', sep= ',') #MJ path\n",
    "#data = pd.read_csv('galaxy1.csv', sep= ',') #TUGBA path"
   ]
  },
  {
   "cell_type": "code",
   "execution_count": 4,
   "metadata": {},
   "outputs": [
    {
     "data": {
      "text/html": [
       "<div>\n",
       "<table border=\"1\" class=\"dataframe\">\n",
       "  <thead>\n",
       "    <tr style=\"text-align: right;\">\n",
       "      <th></th>\n",
       "      <th>GalaxyID</th>\n",
       "      <th>GroupID</th>\n",
       "      <th>SnapNum</th>\n",
       "      <th>Redshift</th>\n",
       "      <th>CentreOfMass_x</th>\n",
       "      <th>CentreOfMass_y</th>\n",
       "      <th>CentreOfMass_z</th>\n",
       "      <th>GroupNumber</th>\n",
       "      <th>SubGroupNumber</th>\n",
       "      <th>MassType_Star</th>\n",
       "      <th>...</th>\n",
       "      <th>StellarVelDisp</th>\n",
       "      <th>Vmax</th>\n",
       "      <th>sm</th>\n",
       "      <th>sfr</th>\n",
       "      <th>vel_disp</th>\n",
       "      <th>size</th>\n",
       "      <th>u_nodust</th>\n",
       "      <th>g_nodust</th>\n",
       "      <th>r_nodust</th>\n",
       "      <th>i_nodust</th>\n",
       "    </tr>\n",
       "  </thead>\n",
       "  <tbody>\n",
       "  </tbody>\n",
       "</table>\n",
       "<p>0 rows × 21 columns</p>\n",
       "</div>"
      ],
      "text/plain": [
       "Empty DataFrame\n",
       "Columns: [GalaxyID, GroupID, SnapNum, Redshift, CentreOfMass_x, CentreOfMass_y, CentreOfMass_z, GroupNumber, SubGroupNumber, MassType_Star, StarFormationRate, StellarVelDisp, Vmax, sm, sfr, vel_disp, size, u_nodust, g_nodust, r_nodust, i_nodust]\n",
       "Index: []\n",
       "\n",
       "[0 rows x 21 columns]"
      ]
     },
     "execution_count": 4,
     "metadata": {},
     "output_type": "execute_result"
    }
   ],
   "source": [
    "data = data[(data['sm']<10**11.4)&(data['sm']>10**9)&(data['sfr']>0)]\n",
    "data[:0]"
   ]
  },
  {
   "cell_type": "code",
   "execution_count": 5,
   "metadata": {},
   "outputs": [],
   "source": [
    "data = data.as_matrix()"
   ]
  },
  {
   "cell_type": "code",
   "execution_count": 6,
   "metadata": {},
   "outputs": [],
   "source": [
    "u_r = data[:,-3] - data[:,-2]\n",
    "r = data[:,-2]\n",
    "ssfr = np.log10(data[:,-7]/data[:,-8]) \n",
    "ms = np.log10(data[:,-8])\n",
    "data[:,-8] = ms.copy()\n",
    "galaxy_id = data[:,0]"
   ]
  },
  {
   "cell_type": "code",
   "execution_count": 7,
   "metadata": {},
   "outputs": [],
   "source": [
    "red_id , blue_id = [] , [] \n",
    "K = 40\n",
    "bins = np.linspace(9, 11.4, K)"
   ]
  },
  {
   "cell_type": "code",
   "execution_count": 8,
   "metadata": {},
   "outputs": [],
   "source": [
    "for k in range(len(bins)-1):\n",
    "    \n",
    "    logm_min, logm_max  = bins[k], bins[k+1]\n",
    "    mask = (ms>logm_min)&(ms<logm_max)\n",
    "    urm = u_r[mask]\n",
    "    rm = r[mask]\n",
    "    gid = galaxy_id[mask]        \n",
    "    redmask = urm > 0.04*(rm + 20) + 0.43\n",
    "    bluemask = urm < 0.04*(rm + 20) + 0.43\n",
    "    red_id.append(gid[redmask])\n",
    "    blue_id.append(gid[bluemask])"
   ]
  },
  {
   "cell_type": "code",
   "execution_count": 9,
   "metadata": {},
   "outputs": [],
   "source": [
    "red_id = np.array(red_id)\n",
    "blue_id = np.array(blue_id)"
   ]
  },
  {
   "cell_type": "code",
   "execution_count": 10,
   "metadata": {},
   "outputs": [],
   "source": [
    "red_id = np.concatenate(red_id, axis=0)\n",
    "blue_id = np.concatenate(blue_id, axis = 0)"
   ]
  },
  {
   "cell_type": "code",
   "execution_count": 11,
   "metadata": {},
   "outputs": [
    {
     "name": "stdout",
     "output_type": "stream",
     "text": [
      "number of quenched gals (4488,)\n",
      "number of sf gals (6231,)\n"
     ]
    }
   ],
   "source": [
    "print \"number of quenched gals\" , red_id.shape\n",
    "print \"number of sf gals\" , blue_id.shape"
   ]
  },
  {
   "cell_type": "code",
   "execution_count": 12,
   "metadata": {},
   "outputs": [],
   "source": [
    "red_mask = np.where(np.in1d(galaxy_id , red_id) == True)[0]\n",
    "blue_mask = np.where(np.in1d(galaxy_id , blue_id) == True)[0]"
   ]
  },
  {
   "cell_type": "code",
   "execution_count": 13,
   "metadata": {},
   "outputs": [],
   "source": [
    "red_data = data[red_mask]\n",
    "blue_data = data[blue_mask]"
   ]
  },
  {
   "cell_type": "code",
   "execution_count": 14,
   "metadata": {},
   "outputs": [],
   "source": [
    "def central_filterer(logmmin, logmmax):\n",
    "    \"\"\"\n",
    "    this function \n",
    "    keeps the central galaxies with non-zero SFR with logmstar \n",
    "    between logmmin, logmmax\n",
    "    \n",
    "    return:\n",
    "    all galaxies with the above properties\n",
    "    red galaxies with the baove properties\n",
    "    blue galaxies with the above properties\n",
    "    \"\"\"\n",
    "    \n",
    "    tot = data[(data[:,8]==0)&(data[:,-8]>logmmin)&(data[:,-8]<logmmax)]  \n",
    "    red = red_data[(red_data[:,8]==0)&(red_data[:,-8]>logmmin)&(red_data[:,-8]<logmmax)]  \n",
    "    blue = blue_data[(blue_data[:,8]==0)&(blue_data[:,-8]>logmmin)&(blue_data[:,-8]<logmmax)]  \n",
    "\n",
    "    return tot,red, blue\n",
    "    \n",
    "    \n",
    "def filterer(logmmin, logmmax):\n",
    "    \"\"\"\n",
    "    this function \n",
    "    keeps the central galaxies with non-zero SFR with logmstar \n",
    "    between logmmin, logmmax\n",
    "    \n",
    "    return:\n",
    "    all galaxies with the above properties\n",
    "    red galaxies with the baove properties\n",
    "    blue galaxies with the above properties\n",
    "    \"\"\"\n",
    "    tot = data[(data[:,-8]>logmmin)&(data[:,-8]<logmmax)]  \n",
    "    red  = red_data[(red_data[:,-8]>logmmin)&(red_data[:,-8]<logmmax)]  \n",
    "    blue = blue_data[(blue_data[:,-8]>logmmin)&(blue_data[:,-8]<logmmax)]  \n",
    "    \n",
    "    return tot,red, blue\n",
    "\n",
    "\n",
    "def modify(x):\n",
    "        \n",
    "    mask = np.abs(x) > 50\n",
    "    \n",
    "    x[mask] = 100 - np.abs(x[mask])\n",
    "    \n",
    "    return np.abs(x)\n",
    "\n",
    "\n",
    "def func(amin, bmax, data1, data2):\n",
    "    \n",
    "    \"\"\"this function returns average number of \n",
    "    data1 points and data2 points between amin and bmax\"\"\"\n",
    "    \n",
    "    zebra = []\n",
    "\n",
    "    for point in data1:\n",
    "        \n",
    "        matrix = point[None,:]-data2\n",
    "        matrix = modify(matrix)\n",
    "        \n",
    "        distance_to_point = np.sum((matrix)**2  ,  axis = 1 )**0.5 #distance from all the points in fake data to the point\n",
    "        A = (amin < distance_to_point) & ( distance_to_point < bmax)\n",
    "        x = len(distance_to_point[A])\n",
    "        zebra.append(x)\n",
    "    zebra= np.array(zebra)\n",
    "    \n",
    "    return np.average(zebra)\n",
    "\n",
    "def func2(logmin, logmmax, galaxy_type1, galaxy_type2):\n",
    "    \n",
    "    \"\"\"\n",
    "    it returns func at (2,4),(4,6) etc. sonun da (2,4) için net sonucu verir.  \n",
    "    \"\"\"\n",
    "    \n",
    "    tot, red, blue = central_filterer(logmin, logmmax)\n",
    "\n",
    "    \n",
    "    \n",
    "    if galaxy_type1 == 'red':\n",
    "        FAKE_DATA1 = red[:,4:7] #bu demek ki biz tüm kolonı tutuyoruz ve sadece 4-7 arasındakı kolonları seçiyoruz.\n",
    "    if galaxy_type1 == 'blue':\n",
    "        FAKE_DATA1 = blue[:,4:7]\n",
    "    if galaxy_type1 == 'tot':\n",
    "        FAKE_DATA1 = tot[:,4:7]\n",
    "   \n",
    "    tot, red, blue = central_filterer(logmin, logmmax) # filterer gives us all galaxies but central_filterer gives us just center galaxies.\n",
    "    \n",
    "    #print \"tot shape\", tot.shape , red.shape , blue.shape\n",
    "\n",
    "    if galaxy_type2 == 'red':\n",
    "        FAKE_DATA2 = red[:,4:7]\n",
    "    if galaxy_type2 == 'blue':   #sns.distplot(array[:,10], norm_hist=False,kde=False)\n",
    "        FAKE_DATA2 = blue[:,4:7]\n",
    "    if galaxy_type2 == 'tot':\n",
    "        FAKE_DATA2 = tot[:,4:7]\n",
    "    \n",
    "    list_average = []\n",
    "    \n",
    "    lister = [2,3,4,5,6,8,9,10,11,12]\n",
    "    for i in lister:\n",
    "        average = func(i,i+1,FAKE_DATA1,FAKE_DATA2)\n",
    "        list_average.append(average)\n",
    "    return np.array(list_average)"
   ]
  },
  {
   "cell_type": "code",
   "execution_count": 15,
   "metadata": {},
   "outputs": [],
   "source": [
    "def edge(index , nsub):\n",
    "    '''returns edges of a sub-box of \n",
    "       a given index\n",
    "    '''\n",
    "    box_size = 100.\n",
    "    subbox_size = 1.*box_size / nsub\n",
    "\n",
    "    zi = (index / (nsub**2)) * subbox_size\n",
    "    i2 = index % (nsub**2)\n",
    "    yi = (i2 / nsub) * subbox_size\n",
    "    i3 = i2 % nsub\n",
    "    xi = (i3) * subbox_size\n",
    "\n",
    "    return xi , yi , zi\n",
    "\n",
    "def mask_catalog(cat , subvol_index , nsub):\n",
    "    '''This divides the box into nsub^3 \n",
    "       sub-boxes. And then it takes out \n",
    "       the sub-box ccorresponding to subvol_index!\n",
    "       Boom!\n",
    "    '''\n",
    "    box_size = 100\n",
    "    subbox_size = 1.*box_size / nsub\n",
    "    \n",
    "    xi , yi , zi  = edge(subvol_index, nsub)\n",
    "    submask = (xi <cat[:, 4]) * \\\n",
    "                       (cat[:, 4] < xi + subbox_size) * \\\n",
    "                       (yi <cat[:, 5]) * \\\n",
    "                       (cat[:, 5] < yi + subbox_size) * \\\n",
    "                       (zi <cat[:, 6]) *  \\\n",
    "                       (cat[:, 6] < zi + subbox_size)\n",
    "    \n",
    "    #print cat.shape , cat[~submask,:].shape\n",
    "    return cat[~submask]"
   ]
  },
  {
   "cell_type": "code",
   "execution_count": 16,
   "metadata": {},
   "outputs": [],
   "source": [
    "def func_index(amin, bmax, data1, data2):\n",
    "    \n",
    "    \"\"\"this function returns average number of \n",
    "    data1 points and data2 points between amin and bmax\"\"\"\n",
    "    \n",
    "    zebra = []\n",
    "\n",
    "    for point in data1:\n",
    "        \n",
    "        matrix = point[None,:]-data2\n",
    "        matrix = modify(matrix)\n",
    "        \n",
    "        distance_to_point = np.sum((matrix)**2  ,  axis = 1 )**0.5 #distance from all the points in fake data to the point\n",
    "        A = (amin < distance_to_point) & ( distance_to_point < bmax)\n",
    "        x = len(distance_to_point[A])\n",
    "        zebra.append(x)\n",
    "    zebra= np.array(zebra)\n",
    "    return np.average(zebra)\n",
    "\n",
    "def func2_index(logmin,logmmax, galaxy_type1, galaxy_type2, index, nsub):\n",
    "    \"\"\"\n",
    "    it returns func at (2,4),(4,6) etc. sonun da (2,4) için net sonucu verir.  \"\"\"\n",
    "    \n",
    "    tot, red, blue = central_filterer(logmin, logmmax)\n",
    "    \n",
    "    tot , red, blue = mask_catalog(tot, index, nsub), mask_catalog(red, index, nsub), mask_catalog(blue, index, nsub)\n",
    "    \n",
    "    \n",
    "    if galaxy_type1 == 'red':\n",
    "        FAKE_DATA1 = red[:,4:7] #bu demek ki biz tüm kolonı tutuyoruz ve sadece 4-7 arasındakı kolonları seçiyoruz.\n",
    "    if galaxy_type1 == 'blue':\n",
    "        FAKE_DATA1 = blue[:,4:7]\n",
    "    if galaxy_type1 == 'tot':\n",
    "        FAKE_DATA1 = tot[:,4:7]\n",
    "   \n",
    "    tot, red, blue = central_filterer(logmin, logmmax) # filterer gives us all galaxies but central_filterer gives us just center galaxies.\n",
    "    \n",
    "\n",
    "\n",
    "    if galaxy_type2 == 'red':\n",
    "        FAKE_DATA2 = red[:,4:7]\n",
    "    if galaxy_type2 == 'blue':   #sns.distplot(array[:,10], norm_hist=False,kde=False)\n",
    "        FAKE_DATA2 = blue[:,4:7]\n",
    "    if galaxy_type2 == 'tot':\n",
    "        FAKE_DATA2 = tot[:,4:7]\n",
    "    \n",
    "    list_average = []\n",
    "    \n",
    "    lister = [2,3,4,5,6,8,9,10,11,12]\n",
    "    for i in lister:\n",
    "        average = func(i,i+1,FAKE_DATA1,FAKE_DATA2)\n",
    "        list_average.append(average)\n",
    "\n",
    "    return np.array(list_average)"
   ]
  },
  {
   "cell_type": "code",
   "execution_count": 17,
   "metadata": {},
   "outputs": [],
   "source": [
    "def red_fraction(logmmin, logmmax, nsub):\n",
    "    \n",
    "    tot_red_subs = []\n",
    "    red_red_subs = []\n",
    "    tot_blue_subs = []\n",
    "    red_blue_subs = []\n",
    "\n",
    "    for index in range(nsub**3):\n",
    "        \n",
    "        tot_red_subs.append(func2_index(logmmin,logmmax,'red','tot', index, nsub))\n",
    "        red_red_subs.append(func2_index(logmmin,logmmax,'red','red', index, nsub))\n",
    "        tot_blue_subs.append(func2_index(logmmin,logmmax,'blue','tot', index, nsub))\n",
    "        red_blue_subs.append(func2_index(logmmin,logmmax,'blue','red', index, nsub))\n",
    "\n",
    "        \n",
    "    tot_red_subs = np.array(tot_red_subs)\n",
    "    red_red_subs = np.array(red_red_subs)\n",
    "    tot_blue_subs = np.array(tot_blue_subs)\n",
    "    red_blue_subs = np.array(red_blue_subs)\n",
    "\n",
    "    tot_red_errs =  np.cov(tot_red_subs.T) * (nsub ** 3 - 1)**2 /nsub ** 3  \n",
    "    red_red_errs =  np.cov(red_red_subs.T) * (nsub ** 3 - 1)**2 / nsub ** 3\n",
    "    tot_blue_errs = np.cov(tot_blue_subs.T) * (nsub ** 3 - 1)**2 / nsub ** 3\n",
    "    red_blue_errs =  np.cov(red_blue_subs.T) *(nsub ** 3 - 1)**2 /nsub ** 3\n",
    "    \n",
    "    \n",
    "    tot_red_err = np.diag(tot_red_errs)**.5\n",
    "    red_red_err = np.diag(tot_red_errs)**.5\n",
    "    tot_blue_err = np.diag(tot_blue_errs)**.5\n",
    "    red_blue_err = np.diag(red_blue_errs)**.5\n",
    "    \n",
    "    \n",
    "    tot_red = func2(logmmin,logmmax,'red','tot')\n",
    "    red_red = func2(logmmin,logmmax,'red','red')\n",
    "    tot_blue = func2(logmmin,logmmax,'blue','tot')\n",
    "    red_blue = func2(logmmin,logmmax,'blue','red')\n",
    "    \n",
    "    fred_red = np.array(red_red)*1.  / np.array(tot_red) #equation 1 of paper\n",
    "    fred_blue = np.array(red_blue)*1.  / np.array(tot_blue) #equatıon 2 of paper\n",
    "    \n",
    "    var_fred_red = (red_red_err**2/red_red**2 + tot_red_err**2/tot_red**2)*(red_red/tot_red)**2.\n",
    "    fred_red_err = var_fred_red**.5\n",
    "    \n",
    "    var_fred_blue = (red_blue_err**2/red_blue**2 + tot_blue_err**2/tot_blue**2)*(red_blue/tot_blue)**2.\n",
    "    fred_blue_err = var_fred_blue**.5\n",
    "    \n",
    "    return fred_red, fred_red_err, fred_blue, fred_blue_err\n",
    "        "
   ]
  },
  {
   "cell_type": "code",
   "execution_count": 18,
   "metadata": {},
   "outputs": [],
   "source": [
    "def chi2(red_red, red_red_err, red_blue, red_blue_err):\n",
    "    \n",
    "    ndata = len(red_red)\n",
    "    chi2r = (red_red - red_blue)**2./(red_red_err**2. + red_blue_err**2.)\n",
    "    return np.sum(chi2r/ndata)"
   ]
  },
  {
   "cell_type": "code",
   "execution_count": 19,
   "metadata": {},
   "outputs": [],
   "source": [
    "def process(logm_list, delta_logm):\n",
    "    \n",
    "    logm_max_list = logm_list + delta_logm/2.\n",
    "    logm_min_list = logm_list - delta_logm/2.\n",
    "    \n",
    "    frr, frr_err, frb, frb_err = [], [], [], []\n",
    "    \n",
    "    for i in range(len(logm_list)):\n",
    "        \n",
    "        A, B, C, D = red_fraction(logm_min_list[i], logm_max_list[i], 4)\n",
    "        frr.append(A)\n",
    "        frr_err.append(B)\n",
    "        frb.append(C)\n",
    "        frb_err.append(D)\n",
    "        \n",
    "    frr = np.array(frr)\n",
    "    frr_err = np.array(frr_err)\n",
    "    frb = np.array(frb)\n",
    "    frb_err = np.array(frb_err)\n",
    "    \n",
    "    return frr, frr_err, frb, frb_err \n",
    "    \n",
    "    "
   ]
  },
  {
   "cell_type": "code",
   "execution_count": 20,
   "metadata": {},
   "outputs": [],
   "source": [
    "logm_list = np.array([9.6, 9.8, 10, 10.2, 10.4, 10.6])\n",
    "delta_logm = 0.2 "
   ]
  },
  {
   "cell_type": "code",
   "execution_count": 21,
   "metadata": {},
   "outputs": [],
   "source": [
    "frr, frr_err, frb, frb_err = process(logm_list, delta_logm)"
   ]
  },
  {
   "cell_type": "code",
   "execution_count": 22,
   "metadata": {},
   "outputs": [
    {
     "data": {
      "text/plain": [
       "Text(0.5,0,'$r \\\\; [\\\\mathrm{Mpc}]$')"
      ]
     },
     "execution_count": 22,
     "metadata": {},
     "output_type": "execute_result"
    },
    {
     "data": {
      "image/png": "[encoded data removed]",
      "text/plain": [
       "<Figure size 1080x720 with 6 Axes>"
      ]
     },
     "metadata": {},
     "output_type": "display_data"
    }
   ],
   "source": [
    "x = [2.5 +i for i in range(10)]\n",
    "x = np.array(x)\n",
    "\n",
    "fig , ax = plt.subplots(nrows=2,ncols=3 , figsize=(15,10), sharex=True, sharey=True)\n",
    "\n",
    "for i in range(2):\n",
    "    for j in range(3):\n",
    "        if i == 0:\n",
    "            ax[i,j].errorbar(x , frr[i+j,:], frr_err[i+j,:], fmt = \"o\", color = \"#e74c3c\")\n",
    "            ax[i,j].errorbar(x+0.25 , frb[i+j,:], frb_err[i+j,:], fmt = \"s\", color = \"#3498db\")\n",
    "            \n",
    "            chi = chi2(frr[i+j,:],frr_err[i+j,:], frb[i+j,:], frb_err[i+j,:])\n",
    "            ax[i,j].text(3, 1.3, r\"$\\log M_{\\star}=$\"+str(logm_list[i+j])+r\"$, \\;\\chi^{2}/\\nu \\; =$\"+str(np.round(chi,2)) , fontsize = 20)\n",
    "\n",
    "            ax[i,j].set_ylim([-0.1,1.5])  \n",
    "        if  i > 0: \n",
    "            ax[i,j].errorbar(x , frr[3+j,:], frr_err[3+j,:], fmt = \"o\", color = \"#e74c3c\")\n",
    "            ax[i,j].errorbar(x+0.25 , frb[3+j,:], frb_err[3+j,:], fmt = \"s\", color = \"#3498db\")\n",
    "            chi = chi2(frr[3+j,:],frr_err[3+j,:], frb[3+j,:], frb_err[3+j,:])\n",
    "            ax[i,j].text(3, 1.3, r\"$\\log M_{\\star}=$\"+str(logm_list[3+j])+r\"$, \\;\\chi^{2}/\\nu \\; =$\"+str(np.round(chi,2)) , fontsize = 20)\n",
    "            ax[i,j].set_ylim([-0.1,1.5])\n",
    "\n",
    "ax[0,0].legend(('Red primary', 'Blue primary'), loc='lower right', shadow=False , fontsize = 15)\n",
    "            \n",
    "            \n",
    "ax[0,0].tick_params(axis='both', labelsize=15)\n",
    "ax[1,0].tick_params(axis='both', labelsize=15)\n",
    "ax[1,1].tick_params(axis='both', labelsize=15)\n",
    "ax[1,2].tick_params(axis='both', labelsize=15)\n",
    "\n",
    "ax[0,0].set_ylabel(\"$\\;f_{\\mathrm{red, \\; central}}$\", fontsize = 30)\n",
    "ax[1,0].set_ylabel(\"$f_{\\mathrm{red, \\; central}}$\", fontsize = 30)\n",
    "ax[1,0].set_xlabel(\"$r \\; [\\mathrm{Mpc}]$\", fontsize = 30)\n",
    "ax[1,1].set_xlabel(\"$r \\; [\\mathrm{Mpc}]$\", fontsize = 30)\n",
    "ax[1,2].set_xlabel(\"$r \\; [\\mathrm{Mpc}]$\", fontsize = 30)"
   ]
  },
  {
   "cell_type": "code",
   "execution_count": 23,
   "metadata": {},
   "outputs": [
    {
     "data": {
      "text/plain": [
       "Text(0.5,0,'$r \\\\; [\\\\mathrm{Mpc}]$')"
      ]
     },
     "execution_count": 23,
     "metadata": {},
     "output_type": "execute_result"
    },
    {
     "data": {
      "image/png": "[encoded data removed]",
      "text/plain": [
       "<Figure size 1080x720 with 6 Axes>"
      ]
     },
     "metadata": {},
     "output_type": "display_data"
    }
   ],
   "source": [
    "x = [2.5 +i for i in range(10)]\n",
    "x = np.array(x)\n",
    "\n",
    "fig , ax = plt.subplots(nrows=2,ncols=3 , figsize=(15,10), sharex=True, sharey=True)\n",
    "\n",
    "for i in range(2):\n",
    "    for j in range(3):\n",
    "        if i == 0:\n",
    "            ax[i,j].errorbar(x , frr[i+j,:]-frb[i+j,:], \n",
    "                             (frr_err[i+j,:]**2+frb_err[i+j,:]**2)**.5 , fmt = \"o\", color = \"#9b59b6\")\n",
    "            ax[i,j].axhline(0, color = \"k\")\n",
    "            chi = chi2(frr[i+j,:],frr_err[i+j,:], frb[i+j,:], frb_err[i+j,:])\n",
    "            ax[i,j].text(3, 0.6, r\"$\\log M_{\\star}=$\"+str(logm_list[i+j])+r\"$, \\;\\chi^{2}/\\nu \\; =$\"+str(np.round(chi,2)) , fontsize = 20)\n",
    "\n",
    "            ax[i,j].set_ylim([-0.45,.9])  \n",
    "        if  i > 0: \n",
    "            ax[i,j].errorbar(x , frr[3+j,:]-frb[3+j,:], \n",
    "                             (frr_err[3+j,:]**2+frb_err[3+j,:]**2)**.5, fmt = \"o\", color = \"#9b59b6\")\n",
    "            ax[i,j].axhline(0, color = \"k\")\n",
    "\n",
    "            chi = chi2(frr[3+j,:],frr_err[3+j,:], frb[3+j,:], frb_err[3+j,:])\n",
    "            ax[i,j].text(3, 0.6, r\"$\\log M_{\\star}=$\"+str(logm_list[3+j])+r\"$, \\;\\chi^{2}/\\nu \\; =$\"+str(np.round(chi,2)) , fontsize = 20)\n",
    "            ax[i,j].set_ylim([-0.45,.9])\n",
    "\n",
    "#ax[0,0].legend(('Quenched primary', 'Star forming primary'), loc='lower right', shadow=False , fontsize = 15)\n",
    "            \n",
    "            \n",
    "ax[0,0].tick_params(axis='both', labelsize=15)\n",
    "ax[1,0].tick_params(axis='both', labelsize=15)\n",
    "ax[1,1].tick_params(axis='both', labelsize=15)\n",
    "ax[1,2].tick_params(axis='both', labelsize=15)\n",
    "\n",
    "ax[0,0].set_ylabel(\"$\\Delta \\;f_{\\mathrm{red, \\; central}}$\", fontsize = 30)\n",
    "ax[1,0].set_ylabel(\"$\\Delta \\; f_{\\mathrm{red, \\; central}}$\", fontsize = 30)\n",
    "ax[1,0].set_xlabel(\"$r \\; [\\mathrm{Mpc}]$\", fontsize = 30)\n",
    "ax[1,1].set_xlabel(\"$r \\; [\\mathrm{Mpc}]$\", fontsize = 30)\n",
    "ax[1,2].set_xlabel(\"$r \\; [\\mathrm{Mpc}]$\", fontsize = 30)"
   ]
  }
 ],
 "metadata": {
  "kernelspec": {
   "display_name": "Python 2",
   "language": "python",
   "name": "python2"
  },
  "language_info": {
   "codemirror_mode": {
    "name": "ipython",
    "version": 2
   },
   "file_extension": ".py",
   "mimetype": "text/x-python",
   "name": "python",
   "nbconvert_exporter": "python",
   "pygments_lexer": "ipython2",
   "version": "2.7.15"
  }
 },
 "nbformat": 4,
 "nbformat_minor": 2
}
