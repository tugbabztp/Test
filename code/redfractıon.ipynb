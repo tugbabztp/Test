{
 "cells": [
  {
   "cell_type": "code",
   "execution_count": 3,
   "metadata": {},
   "outputs": [
    {
     "name": "stdout",
     "output_type": "stream",
     "text": [
      "Populating the interactive namespace from numpy and matplotlib\n"
     ]
    }
   ],
   "source": [
    "import pandas as pd\n",
    "import seaborn as sns\n",
    "import matplotlib.pyplot as plt\n",
    "import math\n",
    "import numpy as np\n",
    "from astropy.io import ascii\n",
    "%pylab inline"
   ]
  },
  {
   "cell_type": "code",
   "execution_count": 4,
   "metadata": {},
   "outputs": [],
   "source": [
    "# Pandas reads from *lots* of different data sources\n",
    "\n",
    "data = pd.read_csv('galaxy1.csv', sep= ',')"
   ]
  },
  {
   "cell_type": "code",
   "execution_count": 5,
   "metadata": {},
   "outputs": [],
   "source": [
    "#data = ascii.read('galaxy1.csv', format='csv', comment='#')   \n",
    "\n",
    "#you can use both date writing code // ascii or pandas kullnarak 'csv' dosyasını okutabilirsin"
   ]
  },
  {
   "cell_type": "code",
   "execution_count": 6,
   "metadata": {},
   "outputs": [
    {
     "data": {
      "text/html": [
       "<div>\n",
       "<style scoped>\n",
       "    .dataframe tbody tr th:only-of-type {\n",
       "        vertical-align: middle;\n",
       "    }\n",
       "\n",
       "    .dataframe tbody tr th {\n",
       "        vertical-align: top;\n",
       "    }\n",
       "\n",
       "    .dataframe thead th {\n",
       "        text-align: right;\n",
       "    }\n",
       "</style>\n",
       "<table border=\"1\" class=\"dataframe\">\n",
       "  <thead>\n",
       "    <tr style=\"text-align: right;\">\n",
       "      <th></th>\n",
       "      <th>GalaxyID</th>\n",
       "      <th>GroupID</th>\n",
       "      <th>SnapNum</th>\n",
       "      <th>Redshift</th>\n",
       "      <th>CentreOfMass_x</th>\n",
       "      <th>CentreOfMass_y</th>\n",
       "      <th>CentreOfMass_z</th>\n",
       "      <th>GroupNumber</th>\n",
       "      <th>SubGroupNumber</th>\n",
       "      <th>MassType_Star</th>\n",
       "      <th>StarFormationRate</th>\n",
       "      <th>StellarVelDisp</th>\n",
       "      <th>Vmax</th>\n",
       "    </tr>\n",
       "  </thead>\n",
       "  <tbody>\n",
       "    <tr>\n",
       "      <th>count</th>\n",
       "      <td>1.000000e+05</td>\n",
       "      <td>1.000000e+05</td>\n",
       "      <td>100000.0</td>\n",
       "      <td>1.000000e+05</td>\n",
       "      <td>100000.000000</td>\n",
       "      <td>100000.000000</td>\n",
       "      <td>100000.000000</td>\n",
       "      <td>1.000000e+05</td>\n",
       "      <td>100000.000000</td>\n",
       "      <td>1.000000e+05</td>\n",
       "      <td>100000.000000</td>\n",
       "      <td>100000.000000</td>\n",
       "      <td>100000.000000</td>\n",
       "    </tr>\n",
       "    <tr>\n",
       "      <th>mean</th>\n",
       "      <td>2.463029e+07</td>\n",
       "      <td>2.600028e+13</td>\n",
       "      <td>26.0</td>\n",
       "      <td>1.827099e-01</td>\n",
       "      <td>51.757342</td>\n",
       "      <td>52.362512</td>\n",
       "      <td>48.512345</td>\n",
       "      <td>2.484590e+04</td>\n",
       "      <td>40.226570</td>\n",
       "      <td>2.039991e+09</td>\n",
       "      <td>0.098431</td>\n",
       "      <td>30.094388</td>\n",
       "      <td>62.033466</td>\n",
       "    </tr>\n",
       "    <tr>\n",
       "      <th>std</th>\n",
       "      <td>2.499046e+07</td>\n",
       "      <td>4.835768e+08</td>\n",
       "      <td>0.0</td>\n",
       "      <td>1.131600e-13</td>\n",
       "      <td>29.002859</td>\n",
       "      <td>28.612115</td>\n",
       "      <td>27.276864</td>\n",
       "      <td>3.818514e+04</td>\n",
       "      <td>194.912566</td>\n",
       "      <td>1.674386e+10</td>\n",
       "      <td>0.579153</td>\n",
       "      <td>18.190084</td>\n",
       "      <td>36.780637</td>\n",
       "    </tr>\n",
       "    <tr>\n",
       "      <th>min</th>\n",
       "      <td>3.000000e+00</td>\n",
       "      <td>2.600000e+13</td>\n",
       "      <td>26.0</td>\n",
       "      <td>1.827099e-01</td>\n",
       "      <td>0.000653</td>\n",
       "      <td>0.000547</td>\n",
       "      <td>0.000605</td>\n",
       "      <td>1.000000e+00</td>\n",
       "      <td>0.000000</td>\n",
       "      <td>2.137226e+07</td>\n",
       "      <td>0.000000</td>\n",
       "      <td>0.000000</td>\n",
       "      <td>7.662674</td>\n",
       "    </tr>\n",
       "    <tr>\n",
       "      <th>25%</th>\n",
       "      <td>4.343981e+06</td>\n",
       "      <td>2.600000e+13</td>\n",
       "      <td>26.0</td>\n",
       "      <td>1.827099e-01</td>\n",
       "      <td>25.934936</td>\n",
       "      <td>29.471976</td>\n",
       "      <td>26.204446</td>\n",
       "      <td>6.350000e+02</td>\n",
       "      <td>0.000000</td>\n",
       "      <td>3.517294e+07</td>\n",
       "      <td>0.000000</td>\n",
       "      <td>21.444459</td>\n",
       "      <td>43.553123</td>\n",
       "    </tr>\n",
       "    <tr>\n",
       "      <th>50%</th>\n",
       "      <td>8.038379e+06</td>\n",
       "      <td>2.600010e+13</td>\n",
       "      <td>26.0</td>\n",
       "      <td>1.827099e-01</td>\n",
       "      <td>54.569580</td>\n",
       "      <td>53.908898</td>\n",
       "      <td>48.291723</td>\n",
       "      <td>1.154850e+04</td>\n",
       "      <td>0.000000</td>\n",
       "      <td>7.200317e+07</td>\n",
       "      <td>0.000000</td>\n",
       "      <td>25.287093</td>\n",
       "      <td>51.409028</td>\n",
       "    </tr>\n",
       "    <tr>\n",
       "      <th>75%</th>\n",
       "      <td>5.620931e+07</td>\n",
       "      <td>2.600040e+13</td>\n",
       "      <td>26.0</td>\n",
       "      <td>1.827099e-01</td>\n",
       "      <td>77.051437</td>\n",
       "      <td>77.564705</td>\n",
       "      <td>68.167470</td>\n",
       "      <td>3.634925e+04</td>\n",
       "      <td>5.000000</td>\n",
       "      <td>2.754987e+08</td>\n",
       "      <td>0.013831</td>\n",
       "      <td>31.410206</td>\n",
       "      <td>66.266855</td>\n",
       "    </tr>\n",
       "    <tr>\n",
       "      <th>max</th>\n",
       "      <td>6.545480e+07</td>\n",
       "      <td>2.601510e+13</td>\n",
       "      <td>26.0</td>\n",
       "      <td>1.827099e-01</td>\n",
       "      <td>99.999020</td>\n",
       "      <td>99.998860</td>\n",
       "      <td>99.999664</td>\n",
       "      <td>1.176619e+06</td>\n",
       "      <td>13473.000000</td>\n",
       "      <td>1.592714e+12</td>\n",
       "      <td>65.187965</td>\n",
       "      <td>629.105700</td>\n",
       "      <td>1106.510500</td>\n",
       "    </tr>\n",
       "  </tbody>\n",
       "</table>\n",
       "</div>"
      ],
      "text/plain": [
       "           GalaxyID       GroupID   SnapNum      Redshift  CentreOfMass_x  \\\n",
       "count  1.000000e+05  1.000000e+05  100000.0  1.000000e+05   100000.000000   \n",
       "mean   2.463029e+07  2.600028e+13      26.0  1.827099e-01       51.757342   \n",
       "std    2.499046e+07  4.835768e+08       0.0  1.131600e-13       29.002859   \n",
       "min    3.000000e+00  2.600000e+13      26.0  1.827099e-01        0.000653   \n",
       "25%    4.343981e+06  2.600000e+13      26.0  1.827099e-01       25.934936   \n",
       "50%    8.038379e+06  2.600010e+13      26.0  1.827099e-01       54.569580   \n",
       "75%    5.620931e+07  2.600040e+13      26.0  1.827099e-01       77.051437   \n",
       "max    6.545480e+07  2.601510e+13      26.0  1.827099e-01       99.999020   \n",
       "\n",
       "       CentreOfMass_y  CentreOfMass_z   GroupNumber  SubGroupNumber  \\\n",
       "count   100000.000000   100000.000000  1.000000e+05   100000.000000   \n",
       "mean        52.362512       48.512345  2.484590e+04       40.226570   \n",
       "std         28.612115       27.276864  3.818514e+04      194.912566   \n",
       "min          0.000547        0.000605  1.000000e+00        0.000000   \n",
       "25%         29.471976       26.204446  6.350000e+02        0.000000   \n",
       "50%         53.908898       48.291723  1.154850e+04        0.000000   \n",
       "75%         77.564705       68.167470  3.634925e+04        5.000000   \n",
       "max         99.998860       99.999664  1.176619e+06    13473.000000   \n",
       "\n",
       "       MassType_Star  StarFormationRate  StellarVelDisp           Vmax  \n",
       "count   1.000000e+05      100000.000000   100000.000000  100000.000000  \n",
       "mean    2.039991e+09           0.098431       30.094388      62.033466  \n",
       "std     1.674386e+10           0.579153       18.190084      36.780637  \n",
       "min     2.137226e+07           0.000000        0.000000       7.662674  \n",
       "25%     3.517294e+07           0.000000       21.444459      43.553123  \n",
       "50%     7.200317e+07           0.000000       25.287093      51.409028  \n",
       "75%     2.754987e+08           0.013831       31.410206      66.266855  \n",
       "max     1.592714e+12          65.187965      629.105700    1106.510500  "
      ]
     },
     "execution_count": 6,
     "metadata": {},
     "output_type": "execute_result"
    }
   ],
   "source": [
    "data [:10]\n",
    "data.describe()"
   ]
  },
  {
   "cell_type": "code",
   "execution_count": 7,
   "metadata": {},
   "outputs": [
    {
     "data": {
      "text/html": [
       "<div>\n",
       "<style scoped>\n",
       "    .dataframe tbody tr th:only-of-type {\n",
       "        vertical-align: middle;\n",
       "    }\n",
       "\n",
       "    .dataframe tbody tr th {\n",
       "        vertical-align: top;\n",
       "    }\n",
       "\n",
       "    .dataframe thead th {\n",
       "        text-align: right;\n",
       "    }\n",
       "</style>\n",
       "<table border=\"1\" class=\"dataframe\">\n",
       "  <thead>\n",
       "    <tr style=\"text-align: right;\">\n",
       "      <th></th>\n",
       "      <th>GalaxyID</th>\n",
       "      <th>GroupID</th>\n",
       "      <th>SnapNum</th>\n",
       "      <th>Redshift</th>\n",
       "      <th>CentreOfMass_x</th>\n",
       "      <th>CentreOfMass_y</th>\n",
       "      <th>CentreOfMass_z</th>\n",
       "      <th>GroupNumber</th>\n",
       "      <th>SubGroupNumber</th>\n",
       "      <th>MassType_Star</th>\n",
       "      <th>StarFormationRate</th>\n",
       "      <th>StellarVelDisp</th>\n",
       "      <th>Vmax</th>\n",
       "    </tr>\n",
       "  </thead>\n",
       "  <tbody>\n",
       "    <tr>\n",
       "      <th>0</th>\n",
       "      <td>21379523</td>\n",
       "      <td>26000000000000</td>\n",
       "      <td>26</td>\n",
       "      <td>0.18271</td>\n",
       "      <td>5.927712</td>\n",
       "      <td>75.501650</td>\n",
       "      <td>47.334126</td>\n",
       "      <td>1</td>\n",
       "      <td>0</td>\n",
       "      <td>1.592714e+12</td>\n",
       "      <td>51.303875</td>\n",
       "      <td>629.10570</td>\n",
       "      <td>1106.51050</td>\n",
       "    </tr>\n",
       "    <tr>\n",
       "      <th>1</th>\n",
       "      <td>21730537</td>\n",
       "      <td>26000000000003</td>\n",
       "      <td>26</td>\n",
       "      <td>0.18271</td>\n",
       "      <td>52.264893</td>\n",
       "      <td>5.048345</td>\n",
       "      <td>20.154005</td>\n",
       "      <td>4</td>\n",
       "      <td>0</td>\n",
       "      <td>1.583770e+12</td>\n",
       "      <td>36.438904</td>\n",
       "      <td>445.49063</td>\n",
       "      <td>996.71094</td>\n",
       "    </tr>\n",
       "    <tr>\n",
       "      <th>2</th>\n",
       "      <td>21242352</td>\n",
       "      <td>26000000000004</td>\n",
       "      <td>26</td>\n",
       "      <td>0.18271</td>\n",
       "      <td>10.774976</td>\n",
       "      <td>81.668144</td>\n",
       "      <td>55.286396</td>\n",
       "      <td>5</td>\n",
       "      <td>0</td>\n",
       "      <td>1.234117e+12</td>\n",
       "      <td>23.436750</td>\n",
       "      <td>401.04062</td>\n",
       "      <td>841.13680</td>\n",
       "    </tr>\n",
       "    <tr>\n",
       "      <th>3</th>\n",
       "      <td>21573588</td>\n",
       "      <td>26000000000002</td>\n",
       "      <td>26</td>\n",
       "      <td>0.18271</td>\n",
       "      <td>9.288896</td>\n",
       "      <td>35.034924</td>\n",
       "      <td>54.263535</td>\n",
       "      <td>3</td>\n",
       "      <td>0</td>\n",
       "      <td>1.189408e+12</td>\n",
       "      <td>65.187965</td>\n",
       "      <td>448.11966</td>\n",
       "      <td>925.92957</td>\n",
       "    </tr>\n",
       "    <tr>\n",
       "      <th>4</th>\n",
       "      <td>21109762</td>\n",
       "      <td>26000000000001</td>\n",
       "      <td>26</td>\n",
       "      <td>0.18271</td>\n",
       "      <td>18.618362</td>\n",
       "      <td>79.838490</td>\n",
       "      <td>54.131245</td>\n",
       "      <td>2</td>\n",
       "      <td>0</td>\n",
       "      <td>1.039220e+12</td>\n",
       "      <td>14.379163</td>\n",
       "      <td>387.37280</td>\n",
       "      <td>818.19430</td>\n",
       "    </tr>\n",
       "  </tbody>\n",
       "</table>\n",
       "</div>"
      ],
      "text/plain": [
       "   GalaxyID         GroupID  SnapNum  Redshift  CentreOfMass_x  \\\n",
       "0  21379523  26000000000000       26   0.18271        5.927712   \n",
       "1  21730537  26000000000003       26   0.18271       52.264893   \n",
       "2  21242352  26000000000004       26   0.18271       10.774976   \n",
       "3  21573588  26000000000002       26   0.18271        9.288896   \n",
       "4  21109762  26000000000001       26   0.18271       18.618362   \n",
       "\n",
       "   CentreOfMass_y  CentreOfMass_z  GroupNumber  SubGroupNumber  MassType_Star  \\\n",
       "0       75.501650       47.334126            1               0   1.592714e+12   \n",
       "1        5.048345       20.154005            4               0   1.583770e+12   \n",
       "2       81.668144       55.286396            5               0   1.234117e+12   \n",
       "3       35.034924       54.263535            3               0   1.189408e+12   \n",
       "4       79.838490       54.131245            2               0   1.039220e+12   \n",
       "\n",
       "   StarFormationRate  StellarVelDisp        Vmax  \n",
       "0          51.303875       629.10570  1106.51050  \n",
       "1          36.438904       445.49063   996.71094  \n",
       "2          23.436750       401.04062   841.13680  \n",
       "3          65.187965       448.11966   925.92957  \n",
       "4          14.379163       387.37280   818.19430  "
      ]
     },
     "execution_count": 7,
     "metadata": {},
     "output_type": "execute_result"
    }
   ],
   "source": [
    "data.head()"
   ]
  },
  {
   "cell_type": "code",
   "execution_count": 8,
   "metadata": {},
   "outputs": [
    {
     "data": {
      "text/plain": [
       "pandas.core.frame.DataFrame"
      ]
     },
     "execution_count": 8,
     "metadata": {},
     "output_type": "execute_result"
    }
   ],
   "source": [
    "type(data)"
   ]
  },
  {
   "cell_type": "code",
   "execution_count": 9,
   "metadata": {},
   "outputs": [],
   "source": [
    "def filterer(logmmin, logmmax):\n",
    "    \"\"\"\n",
    "    this function \n",
    "    keeps the central galaxies with non-zero SFR with logmstar \n",
    "    between logmmin, logmmax\n",
    "    \n",
    "    return:\n",
    "    all galaxies with the above properties\n",
    "    red galaxies with the baove properties\n",
    "    blue galaxies with the above properties\n",
    "    \"\"\"\n",
    "    \n",
    "    central_mask = (data[\"SubGroupNumber\"]==0)&(data[\"StarFormationRate\"]!=0)\n",
    "    array = data.as_matrix()\n",
    "    array = array[central_mask]\n",
    "    array[:,10] = np.log10(array[:,10]/array[:,9]) #biz burdan log SSFR\n",
    "    array[:,9] = np.log10(array[:,9]) #buda logMstar\n",
    "    \n",
    "    mstar_mask = (array[:,9]>logmmin)&(array[:,9]<logmmax)\n",
    "    \n",
    "    median_logssfr = np.median(array[:,10])\n",
    "    \n",
    "    red_mask = array[:,10] < median_logssfr\n",
    "    blue_mask = array[:,10] > median_logssfr\n",
    "\n",
    "        \n",
    "    red = array[red_mask,:]\n",
    "    blue = array[blue_mask,:]\n",
    "    tot= array \n",
    "    \n",
    "    return tot,red, blue\n",
    "    "
   ]
  },
  {
   "cell_type": "code",
   "execution_count": 44,
   "metadata": {},
   "outputs": [],
   "source": [
    "tot , red , blue = filterer(10,10.5)"
   ]
  },
  {
   "cell_type": "code",
   "execution_count": 45,
   "metadata": {},
   "outputs": [
    {
     "data": {
      "text/plain": [
       "(15242, 13)"
      ]
     },
     "execution_count": 45,
     "metadata": {},
     "output_type": "execute_result"
    }
   ],
   "source": [
    "red.shape"
   ]
  },
  {
   "cell_type": "code",
   "execution_count": 12,
   "metadata": {},
   "outputs": [],
   "source": [
    "X = data[\"CentreOfMass_x\"]\n",
    "Y = data[\"CentreOfMass_y\"]\n",
    "Z = data [\"CentreOfMass_z\"]"
   ]
  },
  {
   "cell_type": "code",
   "execution_count": 13,
   "metadata": {},
   "outputs": [
    {
     "name": "stdout",
     "output_type": "stream",
     "text": [
      "[ 5.927712 52.264893 10.774976 ... 74.19333  77.36265  62.922394]\n",
      "[75.50165   5.048345 81.668144 ... 26.00517  87.33227  12.843445]\n",
      "[47.334126 20.154005 55.286396 ... 31.712448 49.537987 25.269644]\n"
     ]
    }
   ],
   "source": [
    "print tot[:,4] #yazıdığımızda bu bize tot'daki yani dat 4 kalonu vericek.\n",
    "print tot[:,5]\n",
    "print tot[:,6]"
   ]
  },
  {
   "cell_type": "code",
   "execution_count": 14,
   "metadata": {},
   "outputs": [
    {
     "data": {
      "text/plain": [
       "(15242, 13)"
      ]
     },
     "execution_count": 14,
     "metadata": {},
     "output_type": "execute_result"
    }
   ],
   "source": [
    "blue.shape"
   ]
  },
  {
   "cell_type": "code",
   "execution_count": 15,
   "metadata": {},
   "outputs": [
    {
     "data": {
      "text/plain": [
       "(30485, 13)"
      ]
     },
     "execution_count": 15,
     "metadata": {},
     "output_type": "execute_result"
    }
   ],
   "source": [
    "tot.shape"
   ]
  },
  {
   "cell_type": "code",
   "execution_count": 16,
   "metadata": {},
   "outputs": [
    {
     "name": "stdout",
     "output_type": "stream",
     "text": [
      "[ 5.927712 52.264893 10.774976 ... 18.709337 71.28754  54.96809 ]\n",
      "[75.50165   5.048345 81.668144 ... 20.581894 48.74289  83.14084 ]\n",
      "[47.334126 20.154005 55.286396 ... 19.692532 56.06172  75.23269 ]\n"
     ]
    }
   ],
   "source": [
    "print red[:,4]\n",
    "print red[:,5]\n",
    "print red[:,6]"
   ]
  },
  {
   "cell_type": "code",
   "execution_count": 31,
   "metadata": {},
   "outputs": [],
   "source": [
    "\n",
    "def func(amin,bmax,data1,data2):\n",
    "    \n",
    "    \"\"\"this function returns average number of \n",
    "    data1 points and data2 points between amin and bmax\"\"\"\n",
    "    \n",
    "    zebra = []\n",
    "\n",
    "    for point in data1:\n",
    "    \n",
    "        distance_to_point = np.sum((point[None,:]-data2)**2  ,  axis = 1 )**0.5 #distance from all the points in fake data to the point\n",
    "        A = (amin < distance_to_point) & ( distance_to_point < bmax)\n",
    "        x = len(distance_to_point[A])\n",
    "        zebra.append(x)\n",
    "    zebra= np.array(zebra)\n",
    "        \n",
    "    return np.average(zebra)\n"
   ]
  },
  {
   "cell_type": "code",
   "execution_count": 46,
   "metadata": {},
   "outputs": [],
   "source": [
    "def func2(logmin,logmmax, galaxy_type1, galaxy_type2):\n",
    "    \"\"\"\n",
    "    it returns func at (2,4),(4,6) etc. sonun da (2,4) için net sonucu verir.  \"\"\"\n",
    "    \n",
    "    tot, red, blue = filterer(logmin, logmmax)\n",
    "    \n",
    "    print tot.shape\n",
    "    print red.shape\n",
    "    print blue.shape\n",
    "    \n",
    "    \n",
    "    if galaxy_type1 == 'red':\n",
    "        FAKE_DATA1 = red[:,4:7] #bu demek ki biz tüm kolonı tutuyoruz ve sadece 4-7 arasındakı kolonları seçiyoruz.\n",
    "    if galaxy_type1 == 'blue':\n",
    "        FAKE_DATA1 = blue[:,4:7]\n",
    "        \n",
    "    if galaxy_type2 == 'red':\n",
    "        FAKE_DATA2 = red[:,4:7]\n",
    "    if galaxy_type2 == 'blue':\n",
    "        FAKE_DATA2 = blue[:,4:7]\n",
    "    if galaxy_type2 == 'tot':\n",
    "        FAKE_DATA2 = tot[:,4:7]\n",
    "    \n",
    "    listnew = []\n",
    "    lister = [2,4,6,8,10,12]\n",
    "    for i in lister:\n",
    "        listnew.append(func(i,i+2,FAKE_DATA1,FAKE_DATA2))\n",
    "    return listnew"
   ]
  },
  {
   "cell_type": "code",
   "execution_count": 48,
   "metadata": {},
   "outputs": [
    {
     "name": "stdout",
     "output_type": "stream",
     "text": [
      "(30485, 13)\n",
      "(15242, 13)\n",
      "(15242, 13)\n",
      "(30485, 13)\n",
      "(15242, 13)\n",
      "(15242, 13)\n"
     ]
    }
   ],
   "source": [
    "tot_around_red = func2(10,10.5,'red','tot')\n",
    "red_around_red = func2(10,10.5,'red','red')"
   ]
  },
  {
   "cell_type": "code",
   "execution_count": 49,
   "metadata": {},
   "outputs": [
    {
     "name": "stdout",
     "output_type": "stream",
     "text": [
      "(30485, 13)\n",
      "(15242, 13)\n",
      "(15242, 13)\n",
      "(30485, 13)\n",
      "(15242, 13)\n",
      "(15242, 13)\n"
     ]
    }
   ],
   "source": [
    "tot_around_blue = func2(10,10.5,'blue','tot')\n",
    "blue_around_blue = func2(10,10.5,'blue','blue')"
   ]
  },
  {
   "cell_type": "code",
   "execution_count": 51,
   "metadata": {},
   "outputs": [],
   "source": [
    "fred_fraction = np.array(red_around_red)  / np.array(tot_around_red)"
   ]
  },
  {
   "cell_type": "code",
   "execution_count": 52,
   "metadata": {},
   "outputs": [],
   "source": [
    "fblue_fraction = np.array(blue_around_blue)  / np.array(tot_around_blue)"
   ]
  },
  {
   "cell_type": "code",
   "execution_count": 56,
   "metadata": {},
   "outputs": [
    {
     "data": {
      "image/png": "[encoded data removed]",
      "text/plain": [
       "<matplotlib.figure.Figure at 0x7fddfb781090>"
      ]
     },
     "metadata": {},
     "output_type": "display_data"
    }
   ],
   "source": [
    "plt.figure(figsize=(10,10))\n",
    "\n",
    "#x = [2,4,6,8,10,12,14]\n",
    "x = [3,5,7,9,11,13]\n",
    "y1 = fred_fraction\n",
    "y2 = fblue_fraction\n",
    "plt.plot(x,y1, marker = \"o\", color =\"r\")\n",
    "plt.plot(x,y2, marker = \"o\", color =\"b\")\n",
    "plt.xticks(fontsize=20)\n",
    "plt.yticks(fontsize=20)\n",
    "plt.ylabel(\"the red fraction\",fontsize=15)\n",
    "plt.xlabel(\"distance (Mpc)\",fontsize=15)\n",
    "plt.savefig(\"figure1.pdf\")"
   ]
  },
  {
   "cell_type": "code",
   "execution_count": null,
   "metadata": {},
   "outputs": [],
   "source": []
  }
 ],
 "metadata": {
  "kernelspec": {
   "display_name": "Python 2",
   "language": "python",
   "name": "python2"
  },
  "language_info": {
   "codemirror_mode": {
    "name": "ipython",
    "version": 2
   },
   "file_extension": ".py",
   "mimetype": "text/x-python",
   "name": "python",
   "nbconvert_exporter": "python",
   "pygments_lexer": "ipython2",
   "version": "2.7.14"
  }
 },
 "nbformat": 4,
 "nbformat_minor": 2
}
