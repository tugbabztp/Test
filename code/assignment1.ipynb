{
 "cells": [
  {
   "cell_type": "code",
   "execution_count": 50,
   "metadata": {},
   "outputs": [],
   "source": [
    "import numpy as np\n",
    "import matplotlib.pyplot as plt"
   ]
  },
  {
   "cell_type": "code",
   "execution_count": 51,
   "metadata": {},
   "outputs": [],
   "source": [
    "Lbox = 40  #size of the box\n",
    "ref = np.array([3,5,23])   # reference coordinate (x0, y0 , z0)"
   ]
  },
  {
   "cell_type": "code",
   "execution_count": 52,
   "metadata": {},
   "outputs": [],
   "source": [
    "Ntot = 1000\n",
    "\n",
    "FAKE_DATA = Lbox * np.random.rand(Ntot, 3) "
   ]
  },
  {
   "cell_type": "code",
   "execution_count": 53,
   "metadata": {},
   "outputs": [
    {
     "data": {
      "text/plain": [
       "array([[ 4.02139763, 36.72212342, 30.02978042],\n",
       "       [ 0.59435402, 38.75152025,  6.92523012],\n",
       "       [23.9466521 ,  6.12732066,  8.43730308],\n",
       "       ...,\n",
       "       [38.421993  , 16.74819553,  7.01899869],\n",
       "       [34.81932679, 31.56504283, 29.65626724],\n",
       "       [ 4.48028632, 18.58182356,  3.99273795]])"
      ]
     },
     "execution_count": 53,
     "metadata": {},
     "output_type": "execute_result"
    }
   ],
   "source": [
    "FAKE_DATA"
   ]
  },
  {
   "cell_type": "markdown",
   "metadata": {},
   "source": [
    "# FIND THE DISTANCES OF ALL THE POINTS IN FAKE_DATA to ref"
   ]
  },
  {
   "cell_type": "code",
   "execution_count": 54,
   "metadata": {},
   "outputs": [],
   "source": [
    "distance = np.sum((ref[None,:]-FAKE_DATA)**2  ,  axis = 1 )**0.5"
   ]
  },
  {
   "cell_type": "markdown",
   "metadata": {},
   "source": [
    "# FIND THE NUMBER OF POINTS THAT ARE WITHIN [3,5] TO THE REFERENCE POINT"
   ]
  },
  {
   "cell_type": "code",
   "execution_count": 55,
   "metadata": {},
   "outputs": [],
   "source": [
    "#print distance[3]"
   ]
  },
  {
   "cell_type": "code",
   "execution_count": 56,
   "metadata": {},
   "outputs": [
    {
     "data": {
      "text/plain": [
       "51.40807769229856"
      ]
     },
     "execution_count": 56,
     "metadata": {},
     "output_type": "execute_result"
    }
   ],
   "source": [
    "np.max(distance)"
   ]
  },
  {
   "cell_type": "code",
   "execution_count": 57,
   "metadata": {},
   "outputs": [
    {
     "data": {
      "text/plain": [
       "1.4364441125649527"
      ]
     },
     "execution_count": 57,
     "metadata": {},
     "output_type": "execute_result"
    }
   ],
   "source": [
    "np.min(distance)"
   ]
  },
  {
   "cell_type": "code",
   "execution_count": 58,
   "metadata": {},
   "outputs": [],
   "source": [
    "A =(5 < distance) & ( distance < 15)"
   ]
  },
  {
   "cell_type": "code",
   "execution_count": 59,
   "metadata": {},
   "outputs": [],
   "source": [
    "#print A"
   ]
  },
  {
   "cell_type": "code",
   "execution_count": 60,
   "metadata": {},
   "outputs": [
    {
     "data": {
      "text/plain": [
       "array([ 5.27435284,  9.89182181, 13.05489715, 12.96334917, 14.51566601,\n",
       "       14.19302806,  9.33580833, 13.49508032, 12.69182687, 11.26807836,\n",
       "        9.48058472, 14.09714018, 14.80976613,  8.13894656, 11.57609791,\n",
       "       13.2152109 ,  5.7469427 , 13.62059227,  9.09467648, 12.9372697 ,\n",
       "       14.23478115,  6.21444315,  7.96112533, 13.39739657, 10.95141003,\n",
       "       14.95629828,  6.41706491, 11.25014697, 14.86458671,  8.93783071,\n",
       "        9.50285755, 10.61061143, 14.06230342, 14.46963921, 14.22712952,\n",
       "       13.80547173, 14.80556449, 14.95956618, 14.23499775, 14.09124486,\n",
       "       13.09600931,  8.14929408, 14.20985618, 11.56490024, 10.18505706,\n",
       "        6.30871229, 13.42452483, 12.98337397, 11.82144993, 10.30525612,\n",
       "        9.63252129,  5.08336493,  6.56772944,  5.90639524, 12.00766843,\n",
       "       12.75743216, 14.00223849, 13.54314296, 12.47034245, 14.74271297,\n",
       "        9.55047127,  9.32299633, 13.5294708 , 10.56386846, 14.4523052 ,\n",
       "       13.63037496, 13.73025653,  7.05698066,  8.89950942, 13.83408108,\n",
       "       13.36138772,  9.72926467, 13.20817389, 13.13649064, 14.66732222,\n",
       "       13.43113233, 10.54411995,  7.96692069, 14.21378123, 13.31633217,\n",
       "       11.43582534,  9.9204254 , 12.26394356, 14.1829005 , 14.06250368])"
      ]
     },
     "execution_count": 60,
     "metadata": {},
     "output_type": "execute_result"
    }
   ],
   "source": [
    "distance[A]"
   ]
  },
  {
   "cell_type": "code",
   "execution_count": 61,
   "metadata": {},
   "outputs": [
    {
     "data": {
      "text/plain": [
       "85"
      ]
     },
     "execution_count": 61,
     "metadata": {},
     "output_type": "execute_result"
    }
   ],
   "source": [
    "len(distance[A])"
   ]
  },
  {
   "cell_type": "markdown",
   "metadata": {},
   "source": [
    "# FIND THE AVERAGE NUMBER OF POINTS THAT ARE WITHIN [3,5] FROM OTHER POINTS"
   ]
  },
  {
   "cell_type": "code",
   "execution_count": 62,
   "metadata": {},
   "outputs": [],
   "source": [
    "zebra = []\n",
    "\n",
    "for point in FAKE_DATA:\n",
    "    \n",
    "    distance_to_point = np.sum((point[None,:]-FAKE_DATA)**2  ,  axis = 1 )**0.5 #distance from all the points in fake data to the point\n",
    "    A = (5 < distance_to_point) & ( distance_to_point < 15)\n",
    "    x = len(distance_to_point[A])\n",
    "    zebra.append(x)"
   ]
  },
  {
   "cell_type": "code",
   "execution_count": 63,
   "metadata": {},
   "outputs": [],
   "source": [
    "zebra  = np.array(zebra)"
   ]
  },
  {
   "cell_type": "code",
   "execution_count": 64,
   "metadata": {},
   "outputs": [],
   "source": [
    "#zebra"
   ]
  },
  {
   "cell_type": "markdown",
   "metadata": {},
   "source": [
    "WHAT IS IN ZEBRA? [59, 111, ...]"
   ]
  },
  {
   "cell_type": "markdown",
   "metadata": {},
   "source": [
    "That means there are 59 points between 5 and 15 Mpcs away from the first point, and there 111 points between 5 and 15 \n",
    "Mpcs away from the second point, ... "
   ]
  },
  {
   "cell_type": "code",
   "execution_count": 65,
   "metadata": {},
   "outputs": [
    {
     "data": {
      "text/plain": [
       "137.51"
      ]
     },
     "execution_count": 65,
     "metadata": {},
     "output_type": "execute_result"
    }
   ],
   "source": [
    "np.mean(zebra) # this is the average number of points that are between 5 and 15 Mpcs away from other points in our data"
   ]
  },
  {
   "cell_type": "code",
   "execution_count": null,
   "metadata": {},
   "outputs": [],
   "source": []
  },
  {
   "cell_type": "markdown",
   "metadata": {},
   "source": [
    "# introduction to lists"
   ]
  },
  {
   "cell_type": "code",
   "execution_count": 66,
   "metadata": {},
   "outputs": [
    {
     "name": "stdout",
     "output_type": "stream",
     "text": [
      "[1]\n"
     ]
    }
   ],
   "source": [
    "l = []\n",
    "l.append(1)\n",
    "print l"
   ]
  },
  {
   "cell_type": "code",
   "execution_count": 67,
   "metadata": {},
   "outputs": [],
   "source": [
    "l.append(2)"
   ]
  },
  {
   "cell_type": "code",
   "execution_count": 68,
   "metadata": {},
   "outputs": [],
   "source": [
    "l.append(-10)"
   ]
  },
  {
   "cell_type": "code",
   "execution_count": 69,
   "metadata": {},
   "outputs": [
    {
     "data": {
      "text/plain": [
       "[1, 2, -10]"
      ]
     },
     "execution_count": 69,
     "metadata": {},
     "output_type": "execute_result"
    }
   ],
   "source": [
    "l"
   ]
  },
  {
   "cell_type": "code",
   "execution_count": 70,
   "metadata": {},
   "outputs": [
    {
     "data": {
      "text/plain": [
       "array([  1,   2, -10])"
      ]
     },
     "execution_count": 70,
     "metadata": {},
     "output_type": "execute_result"
    }
   ],
   "source": [
    "np.array(l)"
   ]
  },
  {
   "cell_type": "code",
   "execution_count": 71,
   "metadata": {},
   "outputs": [],
   "source": [
    "tugba = np.array([1,2])\n",
    "sinem = [1,2]"
   ]
  },
  {
   "cell_type": "code",
   "execution_count": 72,
   "metadata": {},
   "outputs": [],
   "source": [
    "sinem.append(3)"
   ]
  },
  {
   "cell_type": "code",
   "execution_count": 73,
   "metadata": {},
   "outputs": [
    {
     "name": "stdout",
     "output_type": "stream",
     "text": [
      "[1, 2, 3]\n"
     ]
    }
   ],
   "source": [
    "print sinem"
   ]
  },
  {
   "cell_type": "code",
   "execution_count": 74,
   "metadata": {},
   "outputs": [],
   "source": [
    "#for [3,5] defination function (a,b):  and return average  a-min. b-max.\n",
    "\n",
    "\n",
    "def func(amin,bmax):\n",
    "    \n",
    "    \"\"\"this function returns average number of \n",
    "    all galaxies between [a,b] to other galaxies \"\"\"\n",
    "    \n",
    "    zebra = []\n",
    "\n",
    "    for point in FAKE_DATA:\n",
    "    \n",
    "        distance_to_point = np.sum((point[None,:]-FAKE_DATA)**2  ,  axis = 1 )**0.5 #distance from all the points in fake data to the point\n",
    "        A = (amin < distance_to_point) & ( distance_to_point < bmax)\n",
    "        x = len(distance_to_point[A])\n",
    "        zebra.append(x)\n",
    "    zebra= np.array(zebra)\n",
    "        \n",
    "    return np.average(zebra)\n"
   ]
  },
  {
   "cell_type": "code",
   "execution_count": 75,
   "metadata": {},
   "outputs": [
    {
     "data": {
      "text/plain": [
       "3.312"
      ]
     },
     "execution_count": 75,
     "metadata": {},
     "output_type": "execute_result"
    }
   ],
   "source": [
    "func(2,4) #if you write (amin,bmax) it gives you "
   ]
  },
  {
   "cell_type": "code",
   "execution_count": 76,
   "metadata": {},
   "outputs": [],
   "source": [
    "def func2():\n",
    "    \"\"\"it returns func(2,4) and func(4,6) -- \n",
    "    sonunda [2,4] için olan sonuç değeri vericek bize.\"\"\"\n",
    "    listnew = []\n",
    "    lister = [2,4,6,8,10,12]\n",
    "    for i in lister:\n",
    "        listnew.append(func(i,i+2))\n",
    "    return listnew"
   ]
  },
  {
   "cell_type": "code",
   "execution_count": 77,
   "metadata": {},
   "outputs": [
    {
     "data": {
      "text/plain": [
       "[3.312, 8.032, 15.112, 23.102, 31.32, 39.77]"
      ]
     },
     "execution_count": 77,
     "metadata": {},
     "output_type": "execute_result"
    }
   ],
   "source": [
    "func2() "
   ]
  },
  {
   "cell_type": "code",
   "execution_count": 78,
   "metadata": {},
   "outputs": [],
   "source": [
    "def f(x):\n",
    "    a = x**2 \n",
    "    return a"
   ]
  },
  {
   "cell_type": "markdown",
   "metadata": {},
   "source": [
    "# now we want to find the average number of fake date to galaxies around fake date one galaxies . So we need two fake data."
   ]
  },
  {
   "cell_type": "code",
   "execution_count": 79,
   "metadata": {},
   "outputs": [],
   "source": [
    "Lbox1 =  40 #size of the box\n",
    "Ntot1 = 1000\n",
    "Ntot2 = 1500\n",
    "\n",
    "FAKE_DATA1 = Lbox1 *np.random.rand(Ntot1,3)\n",
    "FAKE_DATA2 = Lbox1 *np.random.rand(Ntot2,3)"
   ]
  },
  {
   "cell_type": "code",
   "execution_count": 80,
   "metadata": {},
   "outputs": [
    {
     "data": {
      "text/plain": [
       "array([[ 6.14667997, 24.88131308, 16.27656953],\n",
       "       [15.87783703,  3.77039051,  8.59810152],\n",
       "       [32.92643244, 35.4162751 , 32.5527502 ],\n",
       "       ...,\n",
       "       [25.96818868, 27.21590428,  4.22333995],\n",
       "       [20.34765943, 33.45588353, 32.01855999],\n",
       "       [31.27232849, 14.43305188,  4.69602115]])"
      ]
     },
     "execution_count": 80,
     "metadata": {},
     "output_type": "execute_result"
    }
   ],
   "source": [
    "FAKE_DATA1"
   ]
  },
  {
   "cell_type": "code",
   "execution_count": 81,
   "metadata": {},
   "outputs": [
    {
     "data": {
      "text/plain": [
       "array([[31.96121132,  2.04957689, 34.51230118],\n",
       "       [32.40770728, 21.2428099 , 31.1518779 ],\n",
       "       [17.39808397,  3.50830001, 37.79413781],\n",
       "       ...,\n",
       "       [ 0.42658904, 27.25003198, 12.82593859],\n",
       "       [22.3646922 , 11.97579981, 26.00131287],\n",
       "       [31.17375659,  3.34132059,  6.71602843]])"
      ]
     },
     "execution_count": 81,
     "metadata": {},
     "output_type": "execute_result"
    }
   ],
   "source": [
    "FAKE_DATA2"
   ]
  },
  {
   "cell_type": "code",
   "execution_count": 82,
   "metadata": {},
   "outputs": [],
   "source": [
    "#for [3,5] defination function (a,b):  and return average  a-min. b-max.\n",
    "\n",
    "\n",
    "def func(amin,bmax,data1,data2):\n",
    "    \n",
    "    \"\"\"this function returns average number of \n",
    "    data1 points and data2 points between amin and bmax\"\"\"\n",
    "    \n",
    "    zebra = []\n",
    "\n",
    "    for point in data1:\n",
    "    \n",
    "        distance_to_point = np.sum((point[None,:]-data2)**2  ,  axis = 1 )**0.5 #distance from all the points in fake data to the point\n",
    "        A = (amin < distance_to_point) & ( distance_to_point < bmax)\n",
    "        x = len(distance_to_point[A])\n",
    "        zebra.append(x)\n",
    "    zebra= np.array(zebra)\n",
    "        \n",
    "    return np.average(zebra)\n"
   ]
  },
  {
   "cell_type": "code",
   "execution_count": 92,
   "metadata": {},
   "outputs": [
    {
     "data": {
      "text/plain": [
       "'the average number of data one points(FAKE_DATA1) around \\ndata two point(FAKE_DATA2) between 5and20'"
      ]
     },
     "execution_count": 92,
     "metadata": {},
     "output_type": "execute_result"
    }
   ],
   "source": [
    "func(5,20,FAKE_DATA1,FAKE_DATA2) \n",
    "\"\"\"the average number of data one points(FAKE_DATA1) around \n",
    "data two point(FAKE_DATA2) between 5and20\"\"\""
   ]
  },
  {
   "cell_type": "code",
   "execution_count": 90,
   "metadata": {},
   "outputs": [],
   "source": [
    "def func2():\n",
    "    \"\"\"\n",
    "    func(data1,data2,FAKE_DATA1,FAKE_DATA2) -- \n",
    "    sonunda [data1,data2,FAKE_DATA1,FAKE_DATE2] için olan net sonuçu değeri vericek bize.\"\"\"\n",
    "    listnew = []\n",
    "    lister = [2,4,6,8,10,12]\n",
    "    for i in lister:\n",
    "        listnew.append(func(i,i+2,FAKE_DATA1,FAKE_DATA2))\n",
    "    return listnew"
   ]
  },
  {
   "cell_type": "code",
   "execution_count": 91,
   "metadata": {},
   "outputs": [
    {
     "data": {
      "text/plain": [
       "[5.115, 12.375, 22.294, 33.471, 45.77, 58.246]"
      ]
     },
     "execution_count": 91,
     "metadata": {},
     "output_type": "execute_result"
    }
   ],
   "source": [
    "func2()"
   ]
  },
  {
   "cell_type": "markdown",
   "metadata": {},
   "source": [
    "# make plot func2() and put in the overleaf "
   ]
  },
  {
   "cell_type": "code",
   "execution_count": 100,
   "metadata": {},
   "outputs": [
    {
     "data": {
      "image/png": "[encoded data removed]",
      "text/plain": [
       "<matplotlib.figure.Figure at 0x7f1d24af6490>"
      ]
     },
     "metadata": {},
     "output_type": "display_data"
    }
   ],
   "source": [
    "plt.figure(figsize=(10,10))\n",
    "\n",
    "#x = [2,4,6,8,10,12,14]\n",
    "x = [3,5,7,9,11,13]\n",
    "y = func2()\n",
    "plt.plot(x,y, marker = \"o\", color =\"g\")\n",
    "plt.xticks(fontsize=25)\n",
    "plt.yticks(fontsize=25)\n",
    "plt.ylabel(\"the average number of fake galaxies around fake red galxies\",fontsize=15)\n",
    "plt.xlabel(\"distance (Mpc)\",fontsize=25)\n",
    "plt.savefig(\"figure1.pdf\")"
   ]
  },
  {
   "cell_type": "code",
   "execution_count": 101,
   "metadata": {},
   "outputs": [
    {
     "data": {
      "text/plain": [
       "'12q'"
      ]
     },
     "execution_count": 101,
     "metadata": {},
     "output_type": "execute_result"
    }
   ],
   "source": [
    "\"12\"+\"q\""
   ]
  },
  {
   "cell_type": "code",
   "execution_count": 103,
   "metadata": {},
   "outputs": [
    {
     "data": {
      "text/plain": [
       "'2q'"
      ]
     },
     "execution_count": 103,
     "metadata": {},
     "output_type": "execute_result"
    }
   ],
   "source": [
    "a = 2\n",
    "str(a)+\"q\""
   ]
  },
  {
   "cell_type": "code",
   "execution_count": null,
   "metadata": {},
   "outputs": [],
   "source": []
  }
 ],
 "metadata": {
  "kernelspec": {
   "display_name": "Python 2",
   "language": "python",
   "name": "python2"
  },
  "language_info": {
   "codemirror_mode": {
    "name": "ipython",
    "version": 2
   },
   "file_extension": ".py",
   "mimetype": "text/x-python",
   "name": "python",
   "nbconvert_exporter": "python",
   "pygments_lexer": "ipython2",
   "version": "2.7.14"
  }
 },
 "nbformat": 4,
 "nbformat_minor": 2
}
