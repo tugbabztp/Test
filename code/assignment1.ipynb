{
 "cells": [
  {
   "cell_type": "code",
   "execution_count": 5,
   "metadata": {},
   "outputs": [],
   "source": [
    "import numpy as np"
   ]
  },
  {
   "cell_type": "code",
   "execution_count": 6,
   "metadata": {},
   "outputs": [],
   "source": [
    "Lbox = 40  #size of the box\n",
    "ref = np.array([3,5,23])   # reference coordinate (x0, y0 , z0)"
   ]
  },
  {
   "cell_type": "code",
   "execution_count": 7,
   "metadata": {},
   "outputs": [],
   "source": [
    "Ntot = 1000\n",
    "\n",
    "FAKE_DATA = Lbox * np.random.rand(Ntot, 3) "
   ]
  },
  {
   "cell_type": "markdown",
   "metadata": {},
   "source": [
    "# FIND THE DISTANCES OF ALL THE POINTS IN FAKE_DATA to ref"
   ]
  },
  {
   "cell_type": "code",
   "execution_count": 8,
   "metadata": {},
   "outputs": [],
   "source": [
    "distance = np.sum((ref[None,:]-FAKE_DATA)**2  ,  axis = 1 )**0.5"
   ]
  },
  {
   "cell_type": "markdown",
   "metadata": {},
   "source": [
    "# FIND THE NUMBER OF POINTS THAT ARE WITHIN [3,5] TO THE REFERENCE POINT"
   ]
  },
  {
   "cell_type": "code",
   "execution_count": 80,
   "metadata": {},
   "outputs": [
    {
     "name": "stdout",
     "output_type": "stream",
     "text": [
      "20.81727063554765\n"
     ]
    }
   ],
   "source": [
    "#print distance[3]"
   ]
  },
  {
   "cell_type": "code",
   "execution_count": 10,
   "metadata": {},
   "outputs": [
    {
     "data": {
      "text/plain": [
       "51.95670710056746"
      ]
     },
     "execution_count": 10,
     "metadata": {},
     "output_type": "execute_result"
    }
   ],
   "source": [
    "np.max(distance)"
   ]
  },
  {
   "cell_type": "code",
   "execution_count": 11,
   "metadata": {},
   "outputs": [
    {
     "data": {
      "text/plain": [
       "2.6596530532635403"
      ]
     },
     "execution_count": 11,
     "metadata": {},
     "output_type": "execute_result"
    }
   ],
   "source": [
    "np.min(distance)"
   ]
  },
  {
   "cell_type": "code",
   "execution_count": 12,
   "metadata": {},
   "outputs": [],
   "source": [
    "A =(5 < distance) & ( distance < 15)"
   ]
  },
  {
   "cell_type": "code",
   "execution_count": 13,
   "metadata": {},
   "outputs": [],
   "source": [
    "#print A"
   ]
  },
  {
   "cell_type": "code",
   "execution_count": 14,
   "metadata": {},
   "outputs": [
    {
     "data": {
      "text/plain": [
       "array([ 9.13585865,  9.09299305, 14.25030779, 12.13498147, 13.51242372,\n",
       "       11.56154811,  9.07663245, 14.22863078, 13.76265579, 14.50283527,\n",
       "        6.919153  , 12.29427758,  9.62445766, 14.06402375, 13.05230804,\n",
       "       13.66440734, 10.21500485, 14.19653795, 14.34268415, 10.38865996,\n",
       "        7.54987052, 13.38462399, 11.64969726,  6.31177939,  7.66353158,\n",
       "        9.37308138, 10.54977497,  6.97664798,  9.70331641, 14.60380511,\n",
       "       12.15929573, 13.000354  , 13.7950787 , 12.82856333,  7.6425908 ,\n",
       "        8.74735257,  8.31790856, 12.87537898, 13.04577709, 12.33883817,\n",
       "       13.99690453, 10.98297866,  8.50592106,  9.21075088, 11.94970643,\n",
       "       14.25114659,  9.7845237 , 12.58698726, 10.65312733, 13.8839309 ,\n",
       "        5.02300076, 10.03124059,  5.8042558 , 14.65084451, 10.50854133,\n",
       "       14.20427661, 14.71748119, 13.97023645,  6.01486187,  9.34662384,\n",
       "       12.26640665, 11.70029425, 14.36540261, 13.65265106, 12.59375168,\n",
       "       11.77500671, 13.53239248, 11.46723077, 14.57612036, 12.68743411,\n",
       "        6.0997653 ,  7.7287018 , 13.53969561,  7.12265838, 14.99456438,\n",
       "       13.64259758,  7.38111895, 13.48485448, 10.64820894, 14.5278772 ,\n",
       "       12.92686562, 14.83577697,  9.81055497,  6.38340856])"
      ]
     },
     "execution_count": 14,
     "metadata": {},
     "output_type": "execute_result"
    }
   ],
   "source": [
    "distance[A]"
   ]
  },
  {
   "cell_type": "code",
   "execution_count": 15,
   "metadata": {},
   "outputs": [
    {
     "data": {
      "text/plain": [
       "84"
      ]
     },
     "execution_count": 15,
     "metadata": {},
     "output_type": "execute_result"
    }
   ],
   "source": [
    "len(distance[A])"
   ]
  },
  {
   "cell_type": "markdown",
   "metadata": {},
   "source": [
    "# FIND THE AVERAGE NUMBER OF POINTS THAT ARE WITHIN [3,5] FROM OTHER POINTS"
   ]
  },
  {
   "cell_type": "code",
   "execution_count": 36,
   "metadata": {},
   "outputs": [],
   "source": [
    "zebra = []\n",
    "\n",
    "for point in FAKE_DATA:\n",
    "    \n",
    "    distance_to_point = np.sum((point[None,:]-FAKE_DATA)**2  ,  axis = 1 )**0.5 #distance from all the points in fake data to the point\n",
    "    A = (5 < distance_to_point) & ( distance_to_point < 15)\n",
    "    x = len(distance_to_point[A])\n",
    "    zebra.append(x)"
   ]
  },
  {
   "cell_type": "code",
   "execution_count": 40,
   "metadata": {},
   "outputs": [],
   "source": [
    "zebra  = np.array(zebra)"
   ]
  },
  {
   "cell_type": "code",
   "execution_count": 41,
   "metadata": {},
   "outputs": [
    {
     "data": {
      "text/plain": [
       "array([ 59, 111, 145, 152, 129, 115, 177, 110, 157, 149, 101, 160,  70,\n",
       "        99,  90, 103,  77, 118,  91, 103, 134, 119, 114,  91,  92, 159,\n",
       "       110, 194, 179, 119,  91, 129,  95, 109, 115,  93, 140, 187,  72,\n",
       "       152, 171,  88,  60,  83, 111, 121, 143,  84, 151, 126, 136, 134,\n",
       "       179, 138, 142, 213, 161, 203, 126,  79, 164, 116, 193,  73,  73,\n",
       "        99, 172, 116, 178,  51,  83,  98,  69, 124, 151, 125,  67, 102,\n",
       "       119, 199, 144,  99, 168, 106,  97, 101, 204,  48, 178, 106, 191,\n",
       "       181,  68,  70,  70, 135, 150,  88,  74, 192, 120, 108, 181, 181,\n",
       "       198,  63,  37, 117, 161, 112, 105, 108, 104, 195,  80,  96, 125,\n",
       "       121,  83, 115,  89, 163,  92, 119,  84, 120, 163, 166, 124,  94,\n",
       "        73, 126, 120,  91, 100, 110, 199, 125,  76, 181, 147, 184, 188,\n",
       "        97, 155, 104, 124,  85, 101, 113,  80, 142, 166, 109, 184, 131,\n",
       "       145, 113,  59, 101, 193, 134, 140, 124, 194,  77, 189, 155, 100,\n",
       "       166, 122, 172, 112, 203,  82, 155, 110,  36, 190, 126, 161, 111,\n",
       "       116, 187, 138,  88, 114,  80,  54, 151, 113, 134,  99,  77, 177,\n",
       "        89, 182, 100,  59,  99,  94, 108, 154, 150, 104, 142,  90, 174,\n",
       "       173, 144,  86, 100, 148, 183, 100, 166, 104, 120, 180,  65, 158,\n",
       "        55,  75, 155, 123, 164, 169, 113,  66,  80, 190, 151, 111,  75,\n",
       "        55,  89, 133, 102,  96,  73, 103,  90,  75, 114, 186, 144, 118,\n",
       "        99, 111,  73, 172, 182, 153, 195,  67, 190, 178, 118,  74, 196,\n",
       "        92, 111,  85,  63, 144, 156,  93,  51, 170, 104, 119, 103, 159,\n",
       "       116, 130, 103,  77, 104, 179,  92, 107, 144,  63,  63, 165,  85,\n",
       "        76,  96, 182, 140, 154,  54,  65,  77, 123, 105,  88, 160, 191,\n",
       "       110, 185, 188,  92, 119, 175, 123,  72, 109, 187,  52,  96, 108,\n",
       "        90, 168, 182, 191, 177, 119,  89, 114,  90,  66, 156,  87, 172,\n",
       "       102, 191, 154, 130, 128, 190,  97, 130, 125, 190, 186,  97, 150,\n",
       "       189, 121,  35,  97, 169, 120,  76, 121, 105,  57, 130,  76, 163,\n",
       "       123,  63, 120, 160, 110, 125, 136, 100, 127, 181, 106,  80,  99,\n",
       "        80, 198, 200, 161,  77, 106, 180, 210, 104, 102,  94,  78, 107,\n",
       "       190, 184, 197,  78,  60, 119, 151,  72, 113,  94, 119, 145, 143,\n",
       "       153, 125,  98, 102,  69, 149, 196,  94,  64, 131, 136,  56, 141,\n",
       "       144, 126,  67,  99, 197, 142, 140,  96,  77, 139, 116,  64, 180,\n",
       "       126,  79,  89, 133,  42, 125, 176,  65,  86, 186, 156, 128, 144,\n",
       "        89, 165, 104, 108, 116, 127, 112,  65, 178, 144,  50,  46, 185,\n",
       "       166, 188, 157,  70, 163, 175, 159, 200, 120,  79, 172, 110, 166,\n",
       "       145, 186,  92, 128, 189,  71, 132, 103,  63, 130, 114, 146, 113,\n",
       "       153,  92,  68, 187, 107, 173, 175, 120, 120, 151, 186, 138, 156,\n",
       "        88, 139, 197, 184, 109,  81, 164, 145, 114, 187, 105, 190, 155,\n",
       "       187, 110, 191, 176,  83, 116,  27, 104, 159,  85, 177, 113, 177,\n",
       "        65, 143, 126, 127, 156,  84,  98,  98,  51, 127, 183,  64, 138,\n",
       "       183, 205, 110, 164,  77,  61, 114, 190, 105, 174, 199, 177,  88,\n",
       "       181,  57,  72, 128, 193, 114,  72, 189, 112, 103, 101,  94, 122,\n",
       "       134, 137,  93,  65, 189,  98, 150, 130,  97, 175, 133,  96, 184,\n",
       "       192, 172, 113, 113,  52, 107, 177,  88, 120,  47, 147, 132, 200,\n",
       "       132, 154, 174, 159,  77,  79, 128,  62, 114,  85, 117, 171,  83,\n",
       "       207, 189, 196, 106, 179, 138, 148,  53, 177, 133,  95,  75, 111,\n",
       "       125, 189, 121, 202, 187, 171, 115, 175, 113, 122, 193, 203,  71,\n",
       "       131, 112, 115, 124, 170, 117, 110, 117,  99, 206, 146,  87,  58,\n",
       "       103, 136, 116,  91, 181, 123, 108,  91, 166, 116,  91, 129, 151,\n",
       "       105,  80,  94,  70, 189, 101, 108, 170,  74,  69, 167, 195,  92,\n",
       "       201,  62, 198,  94,  74, 117, 146, 100, 160, 199, 172, 170,  81,\n",
       "        93, 101, 193, 172, 199, 161, 149,  83, 184, 185, 179, 174, 102,\n",
       "       133,  96, 100, 116, 103, 105, 138, 161, 193, 171, 156, 100, 102,\n",
       "       110,  98,  67, 203, 121, 176, 117,  72, 187, 128, 120, 163,  96,\n",
       "       120, 131, 134,  64, 139, 135, 193,  89, 103,  91, 118,  91, 172,\n",
       "       117, 176, 105, 112, 191, 157,  91, 122,  73,  73, 119, 114, 126,\n",
       "       149, 116, 100, 103, 137, 157,  70, 171,  72, 116, 101,  85,  69,\n",
       "       152, 144, 100,  88,  82,  73,  90, 127, 139, 101, 134, 138, 130,\n",
       "       167, 107,  99, 129, 166, 145, 169, 124, 107, 123, 101, 168, 104,\n",
       "       172,  68,  63, 120, 154, 193, 148, 115, 114, 108, 139, 138, 117,\n",
       "       107, 118, 107, 133, 129,  93, 153, 155, 131, 193,  62, 138,  68,\n",
       "        56, 115, 107, 148, 206, 196, 175, 118, 105, 187, 192,  85,  87,\n",
       "       128, 134, 114, 127, 101, 160,  95, 156, 157, 114,  46,  99,  93,\n",
       "       192, 132,  91, 152,  80, 162, 140, 109,  98, 167, 136,  98, 134,\n",
       "       203, 135,  89, 136, 134,  53,  90,  65, 122,  63, 116, 119, 100,\n",
       "        38, 121,  68, 202, 123, 137, 120, 205, 199, 103, 159, 161, 124,\n",
       "       200, 121,  89,  82, 148, 130, 151, 190, 113, 130,  96,  99,  87,\n",
       "        92, 118, 146, 185, 105, 190, 195, 110, 134, 108, 140, 197, 170,\n",
       "       102, 154, 121,  86,  94, 185, 200,  62, 133, 101, 118,  86, 133,\n",
       "       179,  84, 116, 105, 114,  67, 138, 121, 147, 119,  61, 167,  79,\n",
       "       166,  98, 150, 147, 124, 183,  79,  60,  77, 131, 167, 157, 159,\n",
       "       120, 117, 103, 144, 109, 107,  86, 117, 199, 140,  90, 142, 187,\n",
       "        83, 133, 157, 149, 122, 123,  71, 195, 110, 117,  90, 200, 101,\n",
       "       110, 156,  61, 194, 124, 187, 100, 178,  86, 131,  98, 190, 202,\n",
       "        99, 192,  74, 125,  93,  99, 110, 180, 108, 101, 122, 199, 110,\n",
       "        97, 136, 130,  87, 166, 175,  55,  70, 107, 152, 145, 101, 113,\n",
       "       168, 102, 176, 122,  85, 195,  90,  81, 154, 100, 104, 139])"
      ]
     },
     "execution_count": 41,
     "metadata": {},
     "output_type": "execute_result"
    }
   ],
   "source": [
    "zebra"
   ]
  },
  {
   "cell_type": "markdown",
   "metadata": {},
   "source": [
    "WHAT IS IN ZEBRA? [59, 111, ...]"
   ]
  },
  {
   "cell_type": "markdown",
   "metadata": {},
   "source": [
    "That means there are 59 points between 5 and 15 Mpcs away from the first point, and there 111 points between 5 and 15 \n",
    "Mpcs away from the second point, ... "
   ]
  },
  {
   "cell_type": "code",
   "execution_count": 43,
   "metadata": {},
   "outputs": [
    {
     "data": {
      "text/plain": [
       "125.81"
      ]
     },
     "execution_count": 43,
     "metadata": {},
     "output_type": "execute_result"
    }
   ],
   "source": [
    "np.mean(zebra) # this is the average number of points that are between 5 and 15 Mpcs away from other points in our data"
   ]
  },
  {
   "cell_type": "code",
   "execution_count": null,
   "metadata": {},
   "outputs": [],
   "source": []
  },
  {
   "cell_type": "markdown",
   "metadata": {},
   "source": [
    "# introduction to lists"
   ]
  },
  {
   "cell_type": "code",
   "execution_count": 31,
   "metadata": {},
   "outputs": [
    {
     "name": "stdout",
     "output_type": "stream",
     "text": [
      "[1]\n"
     ]
    }
   ],
   "source": [
    "l = []\n",
    "l.append(1)\n",
    "print l"
   ]
  },
  {
   "cell_type": "code",
   "execution_count": 32,
   "metadata": {},
   "outputs": [],
   "source": [
    "l.append(2)"
   ]
  },
  {
   "cell_type": "code",
   "execution_count": 34,
   "metadata": {},
   "outputs": [],
   "source": [
    "l.append(-10)"
   ]
  },
  {
   "cell_type": "code",
   "execution_count": 35,
   "metadata": {},
   "outputs": [
    {
     "data": {
      "text/plain": [
       "[1, 2, -10]"
      ]
     },
     "execution_count": 35,
     "metadata": {},
     "output_type": "execute_result"
    }
   ],
   "source": [
    "l"
   ]
  },
  {
   "cell_type": "code",
   "execution_count": 38,
   "metadata": {},
   "outputs": [
    {
     "data": {
      "text/plain": [
       "array([  1,   2, -10])"
      ]
     },
     "execution_count": 38,
     "metadata": {},
     "output_type": "execute_result"
    }
   ],
   "source": [
    "np.array(l)"
   ]
  },
  {
   "cell_type": "code",
   "execution_count": null,
   "metadata": {},
   "outputs": [],
   "source": []
  }
 ],
 "metadata": {
  "kernelspec": {
   "display_name": "Python 2",
   "language": "python",
   "name": "python2"
  },
  "language_info": {
   "codemirror_mode": {
    "name": "ipython",
    "version": 2
   },
   "file_extension": ".py",
   "mimetype": "text/x-python",
   "name": "python",
   "nbconvert_exporter": "python",
   "pygments_lexer": "ipython2",
   "version": "2.7.15"
  }
 },
 "nbformat": 4,
 "nbformat_minor": 2
}
