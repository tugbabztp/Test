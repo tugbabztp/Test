{
 "cells": [
  {
   "cell_type": "code",
   "execution_count": 3,
   "metadata": {},
   "outputs": [],
   "source": [
    "import numpy as np\n",
    "import matplotlib.pyplot as plt"
   ]
  },
  {
   "cell_type": "code",
   "execution_count": 4,
   "metadata": {},
   "outputs": [],
   "source": [
    "Lbox = 40  #size of the box\n",
    "ref = np.array([3,5,23])   # reference coordinate (x0, y0 , z0)"
   ]
  },
  {
   "cell_type": "code",
   "execution_count": 5,
   "metadata": {},
   "outputs": [],
   "source": [
    "Ntot = 1000\n",
    "\n",
    "FAKE_DATA = Lbox * np.random.rand(Ntot, 3) "
   ]
  },
  {
   "cell_type": "code",
   "execution_count": 6,
   "metadata": {},
   "outputs": [
    {
     "data": {
      "text/plain": [
       "array([[ 4.8461419 , 24.5442694 ,  5.55444586],\n",
       "       [36.1637498 , 29.03198255,  0.04517691],\n",
       "       [28.80664965, 19.54258093, 19.55662972],\n",
       "       ...,\n",
       "       [32.42634886, 18.3984743 , 35.58776846],\n",
       "       [17.98493214, 32.97094304, 19.39405025],\n",
       "       [37.18481359, 13.03798031,  7.73648261]])"
      ]
     },
     "execution_count": 6,
     "metadata": {},
     "output_type": "execute_result"
    }
   ],
   "source": [
    "FAKE_DATA"
   ]
  },
  {
   "cell_type": "markdown",
   "metadata": {},
   "source": [
    "# FIND THE DISTANCES OF ALL THE POINTS IN FAKE_DATA to ref"
   ]
  },
  {
   "cell_type": "code",
   "execution_count": 7,
   "metadata": {},
   "outputs": [],
   "source": [
    "distance = np.sum((ref[None,:]-FAKE_DATA)**2  ,  axis = 1 )**0.5"
   ]
  },
  {
   "cell_type": "markdown",
   "metadata": {},
   "source": [
    "# FIND THE NUMBER OF POINTS THAT ARE WITHIN [3,5] TO THE REFERENCE POINT"
   ]
  },
  {
   "cell_type": "code",
   "execution_count": 8,
   "metadata": {},
   "outputs": [],
   "source": [
    "#print distance[3]"
   ]
  },
  {
   "cell_type": "code",
   "execution_count": 9,
   "metadata": {},
   "outputs": [
    {
     "data": {
      "text/plain": [
       "52.600410648416215"
      ]
     },
     "execution_count": 9,
     "metadata": {},
     "output_type": "execute_result"
    }
   ],
   "source": [
    "np.max(distance)"
   ]
  },
  {
   "cell_type": "code",
   "execution_count": 10,
   "metadata": {},
   "outputs": [
    {
     "data": {
      "text/plain": [
       "2.12817358670679"
      ]
     },
     "execution_count": 10,
     "metadata": {},
     "output_type": "execute_result"
    }
   ],
   "source": [
    "np.min(distance)"
   ]
  },
  {
   "cell_type": "code",
   "execution_count": 11,
   "metadata": {},
   "outputs": [],
   "source": [
    "A =(5 < distance) & ( distance < 15)"
   ]
  },
  {
   "cell_type": "code",
   "execution_count": 12,
   "metadata": {},
   "outputs": [],
   "source": [
    "#print A"
   ]
  },
  {
   "cell_type": "code",
   "execution_count": 13,
   "metadata": {},
   "outputs": [
    {
     "data": {
      "text/plain": [
       "array([12.78606734, 13.86664303, 11.2956584 , 13.73031726, 12.791519  ,\n",
       "       12.40617611, 10.93983358,  6.12216487, 11.34669588,  6.96229867,\n",
       "       12.83364641, 11.96069962, 12.28565928,  8.5502125 ,  8.27316028,\n",
       "        7.28583062, 14.28929708, 13.58959108, 14.90748101, 14.69954847,\n",
       "       13.51858316, 14.8897745 , 13.23280905, 12.09987934, 14.54207505,\n",
       "       13.05438966,  5.8397735 , 10.52339052, 13.88815718, 12.69446249,\n",
       "       11.2732252 , 14.42258294, 13.73184934, 14.32364437,  9.7128724 ,\n",
       "       14.93331346, 13.13854228, 11.67017113,  6.75253017, 13.86176307,\n",
       "       10.68722286,  6.49968691, 14.68312043, 12.96949063, 12.86893783,\n",
       "       12.35438858,  6.23783761, 11.48728043, 11.66348149, 12.39328777,\n",
       "       14.17128549,  5.7417098 , 13.84269835, 12.50714818, 10.10754848,\n",
       "        8.06098483, 10.08496875, 12.15384133, 10.14197013,  7.72095182,\n",
       "        8.18317217, 13.50526427, 11.55662951, 14.61420651, 14.95864117,\n",
       "       14.33613174,  8.40877014,  8.98432583,  7.02625789,  9.99123625,\n",
       "       12.0802506 ,  7.43119713, 11.39075628, 10.57812458, 10.81017242,\n",
       "       13.67270908,  8.55890719, 14.99243466, 12.3953886 ,  7.89713755,\n",
       "       13.2136165 , 12.40537994, 13.21833569, 11.00748835, 13.0858003 ,\n",
       "        5.26816409, 14.21896064, 10.78565796, 10.98332941, 13.96647465,\n",
       "        8.98293142, 14.7005376 , 10.28331419, 14.58417664, 14.77094995,\n",
       "       13.2602074 ,  7.72630993, 13.907068  , 13.86750737,  8.03216969,\n",
       "       11.17754852,  5.52569171,  8.30337744, 12.60329571, 12.81031196,\n",
       "        7.35322448, 14.5611542 , 12.38891251])"
      ]
     },
     "execution_count": 13,
     "metadata": {},
     "output_type": "execute_result"
    }
   ],
   "source": [
    "distance[A]"
   ]
  },
  {
   "cell_type": "code",
   "execution_count": 14,
   "metadata": {},
   "outputs": [
    {
     "data": {
      "text/plain": [
       "108"
      ]
     },
     "execution_count": 14,
     "metadata": {},
     "output_type": "execute_result"
    }
   ],
   "source": [
    "len(distance[A])"
   ]
  },
  {
   "cell_type": "markdown",
   "metadata": {},
   "source": [
    "# FIND THE AVERAGE NUMBER OF POINTS THAT ARE WITHIN [3,5] FROM OTHER POINTS"
   ]
  },
  {
   "cell_type": "code",
   "execution_count": 15,
   "metadata": {},
   "outputs": [],
   "source": [
    "zebra = []\n",
    "\n",
    "for point in FAKE_DATA:\n",
    "    \n",
    "    distance_to_point = np.sum((point[None,:]-FAKE_DATA)**2  ,  axis = 1 )**0.5 #distance from all the points in fake data to the point\n",
    "    A = (5 < distance_to_point) & ( distance_to_point < 15)\n",
    "    x = len(distance_to_point[A])\n",
    "    zebra.append(x)"
   ]
  },
  {
   "cell_type": "code",
   "execution_count": 16,
   "metadata": {},
   "outputs": [],
   "source": [
    "zebra  = np.array(zebra)"
   ]
  },
  {
   "cell_type": "code",
   "execution_count": 17,
   "metadata": {},
   "outputs": [],
   "source": [
    "#zebra"
   ]
  },
  {
   "cell_type": "markdown",
   "metadata": {},
   "source": [
    "WHAT IS IN ZEBRA? [59, 111, ...]"
   ]
  },
  {
   "cell_type": "markdown",
   "metadata": {},
   "source": [
    "That means there are 59 points between 5 and 15 Mpcs away from the first point, and there 111 points between 5 and 15 \n",
    "Mpcs away from the second point, ... "
   ]
  },
  {
   "cell_type": "code",
   "execution_count": 18,
   "metadata": {},
   "outputs": [
    {
     "data": {
      "text/plain": [
       "132.352"
      ]
     },
     "execution_count": 18,
     "metadata": {},
     "output_type": "execute_result"
    }
   ],
   "source": [
    "np.mean(zebra) # this is the average number of points that are between 5 and 15 Mpcs away from other points in our data"
   ]
  },
  {
   "cell_type": "code",
   "execution_count": null,
   "metadata": {},
   "outputs": [],
   "source": []
  },
  {
   "cell_type": "markdown",
   "metadata": {},
   "source": [
    "# introduction to lists"
   ]
  },
  {
   "cell_type": "code",
   "execution_count": 19,
   "metadata": {},
   "outputs": [
    {
     "name": "stdout",
     "output_type": "stream",
     "text": [
      "[1]\n"
     ]
    }
   ],
   "source": [
    "l = []\n",
    "l.append(1)\n",
    "print l"
   ]
  },
  {
   "cell_type": "code",
   "execution_count": 20,
   "metadata": {},
   "outputs": [],
   "source": [
    "l.append(2)"
   ]
  },
  {
   "cell_type": "code",
   "execution_count": 21,
   "metadata": {},
   "outputs": [],
   "source": [
    "l.append(-10)"
   ]
  },
  {
   "cell_type": "code",
   "execution_count": 22,
   "metadata": {},
   "outputs": [
    {
     "data": {
      "text/plain": [
       "[1, 2, -10]"
      ]
     },
     "execution_count": 22,
     "metadata": {},
     "output_type": "execute_result"
    }
   ],
   "source": [
    "l"
   ]
  },
  {
   "cell_type": "code",
   "execution_count": 23,
   "metadata": {},
   "outputs": [
    {
     "data": {
      "text/plain": [
       "array([  1,   2, -10])"
      ]
     },
     "execution_count": 23,
     "metadata": {},
     "output_type": "execute_result"
    }
   ],
   "source": [
    "np.array(l)"
   ]
  },
  {
   "cell_type": "code",
   "execution_count": 24,
   "metadata": {},
   "outputs": [],
   "source": [
    "tugba = np.array([1,2])\n",
    "sinem = [1,2]"
   ]
  },
  {
   "cell_type": "code",
   "execution_count": 25,
   "metadata": {},
   "outputs": [],
   "source": [
    "sinem.append(3)"
   ]
  },
  {
   "cell_type": "code",
   "execution_count": 26,
   "metadata": {},
   "outputs": [
    {
     "name": "stdout",
     "output_type": "stream",
     "text": [
      "[1, 2, 3]\n"
     ]
    }
   ],
   "source": [
    "print sinem"
   ]
  },
  {
   "cell_type": "code",
   "execution_count": 27,
   "metadata": {},
   "outputs": [],
   "source": [
    "#for [3,5] defination function (a,b):  and return average  a-min. b-max.\n",
    "\n",
    "\n",
    "def func(amin,bmax):\n",
    "    \n",
    "    \"\"\"this function returns average number of \n",
    "    all galaxies between [a,b] to other galaxies \"\"\"\n",
    "    \n",
    "    zebra = []\n",
    "\n",
    "    for point in FAKE_DATA:\n",
    "    \n",
    "        distance_to_point = np.sum((point[None,:]-FAKE_DATA)**2  ,  axis = 1 )**0.5 #distance from all the points in fake data to the point\n",
    "        A = (amin < distance_to_point) & ( distance_to_point < bmax)\n",
    "        x = len(distance_to_point[A])\n",
    "        zebra.append(x)\n",
    "    zebra= np.array(zebra)\n",
    "        \n",
    "    return np.average(zebra)\n"
   ]
  },
  {
   "cell_type": "code",
   "execution_count": 28,
   "metadata": {},
   "outputs": [
    {
     "data": {
      "text/plain": [
       "3.262"
      ]
     },
     "execution_count": 28,
     "metadata": {},
     "output_type": "execute_result"
    }
   ],
   "source": [
    "func(2,4) #if you write (amin,bmax) it gives you "
   ]
  },
  {
   "cell_type": "code",
   "execution_count": 29,
   "metadata": {},
   "outputs": [],
   "source": [
    "def func2():\n",
    "    \"\"\"it returns func(2,4) and func(4,6) -- \n",
    "    sonunda [2,4] için olan sonuç değeri vericek bize.\"\"\"\n",
    "    listnew = []\n",
    "    lister = [2,4,6,8,10,12]\n",
    "    for i in lister:\n",
    "        listnew.append(func(i,i+2))\n",
    "    return listnew"
   ]
  },
  {
   "cell_type": "code",
   "execution_count": 30,
   "metadata": {},
   "outputs": [
    {
     "data": {
      "text/plain": [
       "[3.262, 8.076, 14.58, 22.576, 30.116, 38.236]"
      ]
     },
     "execution_count": 30,
     "metadata": {},
     "output_type": "execute_result"
    }
   ],
   "source": [
    "func2() "
   ]
  },
  {
   "cell_type": "code",
   "execution_count": 31,
   "metadata": {},
   "outputs": [],
   "source": [
    "def f(x):\n",
    "    a = x**2 \n",
    "    return a"
   ]
  },
  {
   "cell_type": "markdown",
   "metadata": {},
   "source": [
    "# now we want to find the average number of fake date to galaxies around fake date one galaxies . So we need two fake data."
   ]
  },
  {
   "cell_type": "code",
   "execution_count": 32,
   "metadata": {},
   "outputs": [],
   "source": [
    "Lbox1 =  40 #size of the box\n",
    "Ntot1 = 1000\n",
    "Ntot2 = 1500\n",
    "\n",
    "FAKE_DATA1 = Lbox1 *np.random.rand(Ntot1,3)\n",
    "FAKE_DATA2 = Lbox1 *np.random.rand(Ntot2,3)"
   ]
  },
  {
   "cell_type": "code",
   "execution_count": 33,
   "metadata": {},
   "outputs": [
    {
     "data": {
      "text/plain": [
       "array([[12.34484774, 31.22745301,  2.84194879],\n",
       "       [37.41403217, 27.32712966, 14.98369661],\n",
       "       [ 7.62600882,  6.4875416 ,  1.96341177],\n",
       "       ...,\n",
       "       [27.61742279,  1.80380001, 12.25637311],\n",
       "       [36.1553505 , 36.59958985, 33.88921108],\n",
       "       [ 3.59350978,  7.23032873, 18.63183513]])"
      ]
     },
     "execution_count": 33,
     "metadata": {},
     "output_type": "execute_result"
    }
   ],
   "source": [
    "FAKE_DATA1 #x,y,z kolonları gosterıyor(üç kolon için)"
   ]
  },
  {
   "cell_type": "code",
   "execution_count": 34,
   "metadata": {},
   "outputs": [
    {
     "data": {
      "text/plain": [
       "array([[10.27611926,  1.61396321, 24.92628279],\n",
       "       [29.18949384, 21.9355998 ,  4.73191089],\n",
       "       [27.58807593,  6.59920096, 21.07576695],\n",
       "       ...,\n",
       "       [17.94181502, 17.13772547,  3.68735867],\n",
       "       [25.78959612,  7.18313962, 24.67704138],\n",
       "       [14.41709963,  4.62323023, 34.20440945]])"
      ]
     },
     "execution_count": 34,
     "metadata": {},
     "output_type": "execute_result"
    }
   ],
   "source": [
    "FAKE_DATA2"
   ]
  },
  {
   "cell_type": "code",
   "execution_count": 35,
   "metadata": {},
   "outputs": [],
   "source": [
    "#for [3,5] defination function (a,b):  and return average  a-min. b-max.\n",
    "\n",
    "\n",
    "def func(amin,bmax,data1,data2):\n",
    "    \n",
    "    \"\"\"this function returns average number of \n",
    "    data1 points and data2 points between amin and bmax\"\"\"\n",
    "    \n",
    "    zebra = []\n",
    "\n",
    "    for point in data1:\n",
    "    \n",
    "        distance_to_point = np.sum((point[None,:]-data2)**2  ,  axis = 1 )**0.5 #distance from all the points in fake data to the point\n",
    "        A = (amin < distance_to_point) & ( distance_to_point < bmax)\n",
    "        x = len(distance_to_point[A])\n",
    "        zebra.append(x)\n",
    "    zebra= np.array(zebra)\n",
    "        \n",
    "    return np.average(zebra)\n"
   ]
  },
  {
   "cell_type": "code",
   "execution_count": 36,
   "metadata": {},
   "outputs": [
    {
     "data": {
      "text/plain": [
       "'the average number of data one points(FAKE_DATA1) around \\ndata two point(FAKE_DATA2) between 5and20'"
      ]
     },
     "execution_count": 36,
     "metadata": {},
     "output_type": "execute_result"
    }
   ],
   "source": [
    "func(5,20,FAKE_DATA1,FAKE_DATA2) \n",
    "\"\"\"the average number of data one points(FAKE_DATA1) around \n",
    "data two point(FAKE_DATA2) between 5and20\"\"\""
   ]
  },
  {
   "cell_type": "code",
   "execution_count": 37,
   "metadata": {},
   "outputs": [],
   "source": [
    "def func2():\n",
    "    \"\"\"\n",
    "    it returns func at (2,4),(4,6) etc. sonun da (2,4) için net sonucu verir.  \"\"\"\n",
    "    listnew = []\n",
    "    lister = [2,4,6,8,10,12]\n",
    "    for i in lister:\n",
    "        listnew.append(func(i,i+2,FAKE_DATA1,FAKE_DATA2))\n",
    "    return listnew"
   ]
  },
  {
   "cell_type": "code",
   "execution_count": 38,
   "metadata": {},
   "outputs": [
    {
     "data": {
      "text/plain": [
       "[4.745, 11.883, 21.367, 32.553, 44.334, 56.614]"
      ]
     },
     "execution_count": 38,
     "metadata": {},
     "output_type": "execute_result"
    }
   ],
   "source": [
    "func2()"
   ]
  },
  {
   "cell_type": "markdown",
   "metadata": {},
   "source": [
    "# make plot func2() and put in the overleaf "
   ]
  },
  {
   "cell_type": "code",
   "execution_count": 39,
   "metadata": {},
   "outputs": [
    {
     "data": {
      "image/png": "[encoded data removed]",
      "text/plain": [
       "<matplotlib.figure.Figure at 0x7f2c84f03a90>"
      ]
     },
     "metadata": {},
     "output_type": "display_data"
    }
   ],
   "source": [
    "plt.figure(figsize=(10,10))\n",
    "\n",
    "#x = [2,4,6,8,10,12,14]\n",
    "x = [3,5,7,9,11,13]\n",
    "y = func2()\n",
    "plt.plot(x,y, marker = \"o\", color =\"g\")\n",
    "plt.xticks(fontsize=25)\n",
    "plt.yticks(fontsize=25)\n",
    "plt.ylabel(\"the average number of fake galaxies around fake red galxies\",fontsize=15)\n",
    "plt.xlabel(\"distance (Mpc)\",fontsize=15)\n",
    "plt.savefig(\"figure1.pdf\")"
   ]
  },
  {
   "cell_type": "code",
   "execution_count": 40,
   "metadata": {},
   "outputs": [
    {
     "data": {
      "text/plain": [
       "'12q'"
      ]
     },
     "execution_count": 40,
     "metadata": {},
     "output_type": "execute_result"
    }
   ],
   "source": [
    "\"12\"+\"q\""
   ]
  },
  {
   "cell_type": "code",
   "execution_count": 41,
   "metadata": {},
   "outputs": [
    {
     "data": {
      "text/plain": [
       "'2q'"
      ]
     },
     "execution_count": 41,
     "metadata": {},
     "output_type": "execute_result"
    }
   ],
   "source": [
    "a = 2\n",
    "str(a)+\"q\""
   ]
  },
  {
   "cell_type": "code",
   "execution_count": null,
   "metadata": {},
   "outputs": [],
   "source": []
  },
  {
   "cell_type": "code",
   "execution_count": null,
   "metadata": {},
   "outputs": [],
   "source": []
  },
  {
   "cell_type": "code",
   "execution_count": null,
   "metadata": {},
   "outputs": [],
   "source": []
  }
 ],
 "metadata": {
  "kernelspec": {
   "display_name": "Python 2",
   "language": "python",
   "name": "python2"
  },
  "language_info": {
   "codemirror_mode": {
    "name": "ipython",
    "version": 2
   },
   "file_extension": ".py",
   "mimetype": "text/x-python",
   "name": "python",
   "nbconvert_exporter": "python",
   "pygments_lexer": "ipython2",
   "version": "2.7.14"
  }
 },
 "nbformat": 4,
 "nbformat_minor": 2
}
