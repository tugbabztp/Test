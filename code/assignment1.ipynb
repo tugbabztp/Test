{
 "cells": [
  {
   "cell_type": "code",
   "execution_count": 50,
   "metadata": {},
   "outputs": [],
   "source": [
    "import numpy as np"
   ]
  },
  {
   "cell_type": "code",
   "execution_count": 51,
   "metadata": {},
   "outputs": [],
   "source": [
    "Lbox = 40  #size of the box\n",
    "\n",
    "\n",
    "ref = np.array([3,5,23])   # reference coordinate (x0, y0 , z0)\n"
   ]
  },
  {
   "cell_type": "code",
   "execution_count": 52,
   "metadata": {},
   "outputs": [
    {
     "data": {
      "text/plain": [
       "array([[0.34218386, 0.62209385],\n",
       "       [0.80636904, 0.6101245 ],\n",
       "       [0.50634583, 0.01534462],\n",
       "       ...,\n",
       "       [0.16836683, 0.26302723],\n",
       "       [0.92095411, 0.69572826],\n",
       "       [0.89857288, 0.22604399]])"
      ]
     },
     "execution_count": 52,
     "metadata": {},
     "output_type": "execute_result"
    }
   ],
   "source": [
    "np.random.rand(Ntot, 2)"
   ]
  },
  {
   "cell_type": "code",
   "execution_count": 53,
   "metadata": {},
   "outputs": [],
   "source": [
    "Ntot = 1000\n",
    "\n",
    "FAKE_DATA = Lbox * np.random.rand(Ntot, 3) "
   ]
  },
  {
   "cell_type": "markdown",
   "metadata": {},
   "source": [
    "# FIND THE DISTANCES OF ALL THE POINTS IN FAKE_DATA to ref"
   ]
  },
  {
   "cell_type": "code",
   "execution_count": 54,
   "metadata": {},
   "outputs": [],
   "source": [
    "distance = np.sum((ref[None,:]-FAKE_DATA)**2  ,  axis = 1 )**0.5"
   ]
  },
  {
   "cell_type": "markdown",
   "metadata": {},
   "source": [
    "# FIND THE NUMBER OF POINTS THAT ARE WITHIN [3,5] TO THE REFERENCE POINT"
   ]
  },
  {
   "cell_type": "code",
   "execution_count": 56,
   "metadata": {},
   "outputs": [
    {
     "name": "stdout",
     "output_type": "stream",
     "text": [
      "[20.30254576 19.67146681 37.56562546 20.81727064 17.47649975 28.37768657\n",
      " 34.37668522 33.30294481 11.01718071 24.49120322 17.0257652  32.9911475\n",
      " 27.66536574 19.79503345 37.72439935 37.54040141 23.07761551 34.30385446\n",
      " 28.68061125 18.13007712 38.08840784 18.87328646 36.52692001 19.87347469\n",
      " 22.46555197 36.18388002 31.94942282 35.51959943  7.05782806 13.7860981\n",
      " 19.95607502 51.30116058 42.7150696  39.21832391 21.81033788 29.96335456\n",
      " 14.8367285  23.45982896 14.30345399 33.21548249 17.64089484 32.91956804\n",
      " 35.57018569 22.81052768 38.04435706 35.54279179 37.2834244  20.09525194\n",
      " 16.74031183 20.23121293 24.43807986 41.93381884 16.33306109 21.45880527\n",
      " 11.030882   30.04526325 36.09631608 36.07220088 26.80095097 40.37605272\n",
      " 37.35247199 10.57796922 32.42794079 18.6963865  37.73969676 22.8263052\n",
      " 20.27322415 43.15386823 17.99502126 38.7734179  36.89272579  3.585793\n",
      " 30.25580761 31.49685612 19.80609559 41.82018754 14.91444899 14.77867109\n",
      "  9.65202223 24.0311703  31.30770738 22.39993937 30.05341835 35.79646974\n",
      " 40.68850453 28.6196634  45.02123425 23.09722922 43.2186613  33.46108273\n",
      " 33.52126339 32.96778416 21.00929809 21.20202219 32.84800618 20.89841343\n",
      "  8.62239185 28.86280866 34.42176861 18.19607191 21.88950096 27.27857126\n",
      " 25.12527529 32.95468575 23.83494235 20.23319427 28.552865   28.9290301\n",
      " 29.31224304 30.8408508  22.64680885 34.21911492 39.37048845 34.72434668\n",
      " 29.65796343 22.8928837  36.91545225 34.59810965 27.0015142  37.50420473\n",
      " 48.24061121 37.02617994 26.19051464 34.37991895 15.51488    31.34122214\n",
      " 25.47739188 25.20411798 33.73020586 29.70717549 32.97963665 36.10279445\n",
      " 38.96545414 24.23680207 30.16083143 33.0862297  24.99841891 32.37146084\n",
      " 27.69612426 39.31431372 38.76239133 43.9396704  40.84973672 18.59070534\n",
      " 35.17713455 39.44985254 42.19041961 44.25213186 36.65318367 39.77008883\n",
      " 17.83621706 31.02190112 27.24476774 21.98234996 31.35299005 43.7107282\n",
      " 43.23500706 45.11403502 11.84167659 44.06036205 32.69938701 32.38908883\n",
      " 44.28159623 33.46780432 14.93378743 47.81412889 20.16836359 19.57714409\n",
      " 18.95708283 44.41154881 31.67919636 20.59380819 26.00998961 32.41138158\n",
      " 28.3342005  31.76954057 25.69801994 49.48294396 30.17829354 23.08174559\n",
      " 21.30570178 19.47371048 22.29014408 22.22694775 15.09631129 24.6102968\n",
      " 18.81325055 14.60599883  8.24660316 25.09633445 16.12220976 41.27422427\n",
      " 29.51112168 11.99423262 41.49877012 36.28754493 22.35152821 32.52115354\n",
      " 41.14827529 23.14320697 40.19917266 27.29858707  5.2275104  33.8205699\n",
      " 22.23457953 19.63738311 15.84631245 33.83617619 34.1265908   5.47612653\n",
      " 30.50745278 34.12394224 39.52196042 35.13516841 38.64874267 34.00349262\n",
      " 33.9560867  36.7220925  34.50766579 37.69083878 48.90608108 40.4218639\n",
      " 23.68973931 45.00054598 33.78340964 13.84287936 20.38074694 36.55945429\n",
      " 31.01940765 38.19612042 36.67016686 22.37221217 16.50684533 24.14834156\n",
      " 34.3139242  28.83786277 37.85870839 28.89929969 41.02925463 44.10234528\n",
      " 10.20037321 41.34682058 21.84865688 24.10213976 34.58383984 18.69020118\n",
      " 24.43918885 34.86516241 22.35732497 25.7751197  28.04927322 34.98899917\n",
      " 29.82334836 12.02419159 39.38324345 44.54820055 20.46217423 44.25599023\n",
      " 24.44109014 35.39729295 20.07162382 30.28988157 19.83840477 32.42667605\n",
      " 50.76953109 26.33248542 27.41479191 34.84197376 28.63508421 31.92174732\n",
      " 42.20266354 27.53647814 19.11042025 21.97742277 18.73996183 39.18742878\n",
      " 34.57633458 12.23165046 21.13012032 40.21808935 37.77830055 29.96269305\n",
      " 13.76021792 30.80256038 19.45252277 36.9419257  31.54482406 33.44666475\n",
      "  7.12351987 18.20345489 37.12320207 30.46723506 31.23410522 23.22594823\n",
      " 42.77163295 36.57149854 17.55543156 36.82531676 30.0113478  38.55143173\n",
      " 38.27127763 26.26605926 19.55456933 47.30362855 23.08139852 35.83600655\n",
      " 24.57569323 15.89946557 23.28418829 22.37437606 29.66862594 28.79759145\n",
      " 42.3631719  34.69063394 35.41609578 25.59673307  5.2553926  32.79297906\n",
      " 21.53649686 29.38312022 30.55231868 30.81854055 44.6216281  47.79692385\n",
      " 27.42030164 17.83653642 48.45036257 35.52482466 12.9297201  26.21477653\n",
      " 25.34916542 51.63788125 34.34720381 41.88319294 31.2741924  30.88372903\n",
      " 28.54418004 30.07890288 44.61820156 25.01793717 33.60640096 37.82708986\n",
      " 44.75780926 30.14750388 28.0485988  30.5176701  21.09178111 26.52437243\n",
      " 10.25287308 40.3780774  32.77844594 26.83372734 37.7563949  21.83583674\n",
      " 32.12669423 47.37421243 32.11009115 27.56008142  9.61445435 29.22072336\n",
      " 15.58010542 10.86355125  6.38271569  7.40748714 21.83553407 42.56935978\n",
      " 24.86482955 33.27534922 17.10899961 29.81045747 35.15362256 34.52692978\n",
      " 15.84472611 21.8905183  32.88951372 35.08221203 21.88524912 11.67789757\n",
      " 46.94793113 33.00512389 22.17380463 37.70526578 21.77054569 35.0363384\n",
      " 34.47219399 17.5667726  38.199152   28.61162471 36.31334    28.36686598\n",
      " 38.51718623 30.31021562 33.97960578 21.09162246 33.90408789 26.23723625\n",
      " 10.36965775 33.03063188 11.35277749 30.53457796 13.81029075 39.98123003\n",
      " 38.33106038 27.04853276 28.25745503  9.31171089 37.49487915 35.88986063\n",
      " 48.36380621 23.52491373 37.84395694 34.85172897 39.64172614 39.2347466\n",
      "  4.61900654 15.31676453 30.01055755 34.13422453 39.50497777 27.59387932\n",
      " 21.27649904 22.42517931 40.09209184 35.79231875 30.1831698  26.7155147\n",
      " 26.71613186 15.42531448 26.55563698 35.19469414  7.34053323 20.8235108\n",
      " 28.45970227 44.71471909 18.77692173 34.62891164 31.7002633  36.26485264\n",
      " 15.86228115 20.54058221 46.7930566  35.9539474  36.74811641 12.5026186\n",
      " 16.60576918 21.53529971 14.4092831  32.64832659 38.59503171 41.04804616\n",
      " 25.69674863 47.92874651 33.87357611 27.05311871 22.78467961 35.57561704\n",
      " 16.05462181 27.60264834 32.88137616 15.66562771 14.86744594  8.72563513\n",
      " 23.8042885  28.23879386 32.74381429 29.0746721  21.74327556 18.87635108\n",
      " 35.43923753 30.0813597  23.41947606 12.74599034 26.72721511 16.57075511\n",
      " 35.39993313 36.58277056 22.73591662 22.44818668 25.04070855 39.16621018\n",
      " 39.56648534 36.99820484 12.38932344 29.70462222  5.24970304 37.14914549\n",
      " 17.14297481 36.91286423 26.55140491 38.47683094 26.12632261 41.26139485\n",
      " 33.98219388 23.58210318 16.9595705  45.9331486  17.59362139 16.68157658\n",
      " 22.15589328 35.26433995 41.93647055 24.86247052 33.43457722 38.83448915\n",
      " 33.0735976  36.07978675 34.99044002 28.5847007  34.36891276 25.10787126\n",
      " 47.43725574 17.2123055  25.79330806 43.03591168 21.81181773 35.22026367\n",
      " 43.37460473  5.32118351 40.82002693 38.93344149 30.34752988 18.54284394\n",
      " 24.37526517 46.68865588 30.85175844 36.97567966 31.81183998 23.85692704\n",
      " 16.44152364 27.40032019 21.6247454  24.56967978 44.2079669  25.27322253\n",
      " 22.86970046 22.41324665 26.76233479 30.59167292 25.70923951 30.03438228\n",
      " 28.92718446 30.56193474 36.79826301  7.82263133 31.80802807 21.81243297\n",
      " 39.89200148 39.44685518 28.59249879 25.57663834 31.90052986 23.58593899\n",
      " 22.41590323 35.5721211  29.9631062  33.80802402 38.23981685 34.11233844\n",
      " 28.32691319 31.11241806 21.42210471 22.9864762  35.2506993  34.45458257\n",
      " 21.82421816  9.14939444 30.42760729 20.01007807 17.72545211 31.37903025\n",
      " 19.63613063 17.90020194 27.81207953 12.69318282 32.12531148 44.87550303\n",
      "  8.9480191  34.33382467 24.0011795  33.88066482 43.26921414 27.71791708\n",
      " 29.71120139 10.31121098 45.21704905 30.17385606 21.39175712 44.17850734\n",
      " 23.03181485 40.64495124 27.37410954 33.71253445 10.76969892 30.08277105\n",
      " 23.01901745 24.70068916 23.38870267 33.96428124 29.76466699 41.89057764\n",
      " 28.07669779 21.58261048 28.92594027 11.03309064 44.99847897 36.99116303\n",
      " 26.22104049 29.78491221 32.96455519 36.12422592 14.83020277 17.2093016\n",
      " 23.88378976 36.59927845 26.43383743 16.33397452 36.2020501  38.04326069\n",
      " 37.72742577 34.12419403 48.61116502 42.6192488  19.03665501 50.05190683\n",
      " 41.6308435  20.47530673 27.0394462  21.04508729 21.21275788 20.05399555\n",
      " 31.90680517 25.53059446 26.26775235 22.54348882 26.61633802 45.45163754\n",
      " 48.25455293 36.01325688 14.90296795 27.25094945 17.33772251 36.73198322\n",
      " 25.99142039 27.53584929 26.09011902 30.65054527 23.04573484  8.31981285\n",
      " 42.35595593 19.40758837 34.02832213 19.13281837 27.18533183 39.11319447\n",
      " 11.82298997 49.76170328 30.05761932 32.13204465 33.74464055 26.61215316\n",
      " 33.35639838 31.47925418 40.03498488 46.43147565 16.32137963 26.81161\n",
      "  5.29683477 30.75190862 24.07344277 38.43549712 26.39963706 20.68360307\n",
      " 12.80368537 22.6598953  23.7328963  39.85173023 26.29619104 42.50137011\n",
      " 41.49368173 15.15692125 27.42844913 20.1070983  29.97310173 10.31288684\n",
      " 43.86009959 31.17844671 32.7728541  28.13378857 25.48264927 41.99377359\n",
      " 39.13061953 34.74914536 46.80289422 14.09350608 10.7973955   3.95485874\n",
      " 30.83508497 26.46462606 28.61377453 30.90775504 21.5165693  17.75310786\n",
      " 13.01295483 18.03841257 34.11238261 31.31381683 30.64266809 36.52476336\n",
      " 16.11813573 23.16553316 30.33362691 36.26625067 40.28887745 28.12194351\n",
      " 23.12751827 20.99795974 39.79521737 28.50799653 16.17670263 22.92733865\n",
      " 24.32413457 12.74598253 29.79533479 30.97466216 39.3431429  32.34081321\n",
      " 40.35321422 22.79203691 30.17257911 11.38258417 24.5369589  39.67053306\n",
      " 27.48029212 44.27332015 31.16875465 33.86782287 25.6180949  18.0673243\n",
      " 29.09067677 17.31713531 35.57490258 26.24711145 10.79336199 29.47196145\n",
      " 35.36496687 33.13906949 43.26628817 29.06224279 16.53548013 33.15393142\n",
      " 33.23117872 33.96811244 22.22884418 34.95693203 25.81431578 33.09812331\n",
      "  6.29086826 27.70178943 39.29621245 39.64664569 18.64296241 41.39460177\n",
      " 36.20321163 32.34723127 35.91073962 17.27451135 33.85856771 44.38698929\n",
      " 36.44567679 33.50003223 24.63195983 36.54543666 28.83895088 39.3663456\n",
      " 30.46774838 20.0837538  49.79482272 35.47076259 30.96278316 21.39609363\n",
      " 31.82449148 48.32463373 35.17079875 15.67008229 18.4205775  38.92652919\n",
      " 20.51116446 10.37600629 29.62550295 39.94783802 49.16333591 11.14687926\n",
      " 31.7639078  34.44948356 19.32660079 26.72877369 36.72688104  4.87185465\n",
      " 37.57619746 23.16540651 50.20964162 27.85622965 28.40242906  3.60093283\n",
      " 29.57615032 40.05693272  7.25229027 19.97140778 33.63398856 30.60866795\n",
      " 21.34363563 38.64871194 28.06054944 23.48343398 21.50344266 40.40211646\n",
      " 17.39460743 31.25482792 27.2605789  32.6286428  19.55616625 26.75916446\n",
      " 26.42941743 21.58431281 21.58989718 48.20016812 34.1029212  31.99131395\n",
      " 10.48051975 24.45532232 22.62188351 12.93377835 28.30369489 47.74252224\n",
      " 42.63110203 32.63456287 26.88930467 37.80694249 18.47512504 32.82081822\n",
      " 26.43104619 35.26401227 30.3068791  33.88314546 33.32211274 37.4209399\n",
      " 22.93821244 30.32753099 22.99582411 32.29519539 15.93992052 33.95965989\n",
      "  7.41215444 10.87793994 22.77201955 28.32107206 36.17468986 27.0362725\n",
      " 23.78449305 38.61117745 25.54773522 27.09461691 36.64756453 25.65304374\n",
      " 26.77264686 17.70447023 29.91566934 29.5401144  36.36265726 30.0911285\n",
      " 28.81793078 36.53319759 17.00694389 32.11733722 21.46621202 29.02610147\n",
      " 15.89925214 39.62052461 25.80133244 22.30750164 21.47110476  8.32230319\n",
      " 33.0293467  25.91495111 19.70355321 14.53450382 35.10762011 19.75249155\n",
      " 25.62589021 45.04382438 11.82676452 17.2520284  35.85786964 29.40304751\n",
      " 30.5278894  35.29639332 25.50226976 36.57483851 27.46173647 33.20203086\n",
      " 37.30085065 35.89750546 30.72933942 23.77252435 30.4187271  37.13119347\n",
      " 35.42294374 43.52076699 22.18893996 38.33237755 14.33077305 19.09225817\n",
      " 30.21940029 30.68662174 42.38438612 18.9390922  40.84574981 14.85607696\n",
      " 39.70494698 44.88585026 40.07034752 39.06479462 43.93385633 41.17912597\n",
      " 21.70643987 19.20653174 27.06350673 37.63347889 34.30182203 17.66305234\n",
      " 32.58566821 18.27727872 31.49140632 32.9913101  20.80022308 30.54391094\n",
      " 37.02722622 36.22935963 26.57304358 35.57618557 11.38207441 36.43620034\n",
      " 16.31307375 25.02604754 29.14943861 14.61133871 11.36657201 28.45429459\n",
      " 22.23426593 20.95449702 19.85463283 24.53134406 37.38001272 23.09500363\n",
      " 30.05189671 15.06125772 39.46656223 27.1547783  40.0687097  34.73918128\n",
      "  9.6610722  31.08295051 30.09529088 27.78101411 20.84530364 30.44753598\n",
      " 24.12888627 25.48333352 20.52937399 34.88466469 40.20101537 36.59242256\n",
      " 21.62923843 26.98640572 36.45656313 20.06928861 22.14822455 27.41033784\n",
      " 38.66644001 26.94120539 24.40255791 32.295669   40.03746059 37.12794549\n",
      " 33.74288504 29.19993276 15.15839218 29.73964808 13.59441023 17.01124309\n",
      " 28.99983279 46.7874837  16.6247115  21.65744666 40.08905818 28.91926836\n",
      " 25.80697617 24.932581   25.98306198 35.41030525]\n"
     ]
    }
   ],
   "source": [
    "print distance"
   ]
  },
  {
   "cell_type": "code",
   "execution_count": 57,
   "metadata": {},
   "outputs": [
    {
     "name": "stdout",
     "output_type": "stream",
     "text": [
      "20.81727063554765\n"
     ]
    }
   ],
   "source": [
    "print distance[3]"
   ]
  },
  {
   "cell_type": "code",
   "execution_count": 58,
   "metadata": {},
   "outputs": [
    {
     "data": {
      "text/plain": [
       "51.63788124883711"
      ]
     },
     "execution_count": 58,
     "metadata": {},
     "output_type": "execute_result"
    }
   ],
   "source": [
    "np.max(distance)"
   ]
  },
  {
   "cell_type": "code",
   "execution_count": 59,
   "metadata": {},
   "outputs": [
    {
     "data": {
      "text/plain": [
       "3.585793004652596"
      ]
     },
     "execution_count": 59,
     "metadata": {},
     "output_type": "execute_result"
    }
   ],
   "source": [
    "np.min(distance)"
   ]
  },
  {
   "cell_type": "code",
   "execution_count": 75,
   "metadata": {},
   "outputs": [],
   "source": [
    "A =(5 < distance) & ( distance < 15)"
   ]
  },
  {
   "cell_type": "code",
   "execution_count": 76,
   "metadata": {},
   "outputs": [
    {
     "name": "stdout",
     "output_type": "stream",
     "text": [
      "[False False False False False False False False  True False False False\n",
      " False False False False False False False False False False False False\n",
      " False False False False  True  True False False False False False False\n",
      "  True False  True False False False False False False False False False\n",
      " False False False False False False  True False False False False False\n",
      " False  True False False False False False False False False False False\n",
      " False False False False  True  True  True False False False False False\n",
      " False False False False False False False False False False False False\n",
      "  True False False False False False False False False False False False\n",
      " False False False False False False False False False False False False\n",
      " False False False False False False False False False False False False\n",
      " False False False False False False False False False False False False\n",
      " False False False False False False False False False False False False\n",
      " False False  True False False False False False  True False False False\n",
      " False False False False False False False False False False False False\n",
      " False False False False False False False  True  True False False False\n",
      " False  True False False False False False False False False  True False\n",
      " False False False False False  True False False False False False False\n",
      " False False False False False False False False False  True False False\n",
      " False False False False False False False False False False False False\n",
      "  True False False False False False False False False False False False\n",
      " False  True False False False False False False False False False False\n",
      " False False False False False False False False False False False False\n",
      " False  True False False False False  True False False False False False\n",
      "  True False False False False False False False False False False False\n",
      " False False False False False False False False False False False False\n",
      " False False False False  True False False False False False False False\n",
      " False False False False  True False False False False False False False\n",
      " False False False False False False False False False False False False\n",
      "  True False False False False False False False False False  True False\n",
      " False  True  True  True False False False False False False False False\n",
      " False False False False False  True False False False False False False\n",
      " False False False False False False False False False False False False\n",
      "  True False  True False  True False False False False  True False False\n",
      " False False False False False False False False False False False False\n",
      " False False False False False False False False False False  True False\n",
      " False False False False False False False False False False False  True\n",
      " False False  True False False False False False False False False False\n",
      " False False False False  True  True False False False False False False\n",
      " False False False  True False False False False False False False False\n",
      " False False  True False  True False False False False False False False\n",
      " False False False False False False False False False False False False\n",
      " False False False False False False False False False False False False\n",
      " False  True False False False False False False False False False False\n",
      " False False False False False False False False False False False False\n",
      " False False False  True False False False False False False False False\n",
      " False False False False False False False False False False False False\n",
      " False  True False False False False False False False  True False False\n",
      "  True False False False False False False  True False False False False\n",
      " False False False False  True False False False False False False False\n",
      " False False False  True False False False False False False  True False\n",
      " False False False False False False False False False False False False\n",
      " False False False False False False False False False False False False\n",
      " False False  True False False False False False False False False  True\n",
      " False False False False False False  True False False False False False\n",
      " False False False False False False  True False False False False False\n",
      "  True False False False False False False False False False False  True\n",
      " False False False False False False False False False  True  True False\n",
      " False False False False False False  True False False False False False\n",
      " False False False False False False False False False False False False\n",
      " False  True False False False False False False False  True False False\n",
      " False False False False False False False False False False  True False\n",
      " False False False False False False False False False False False False\n",
      "  True False False False False False False False False False False False\n",
      " False False False False False False False False False False False False\n",
      " False False False False False False False  True False False False  True\n",
      " False False False False False False False False False False False False\n",
      " False False  True False False False False False False False False False\n",
      " False False False False False False False False False False False False\n",
      "  True False False  True False False False False False False False False\n",
      " False False False False False False False False False False False False\n",
      "  True  True False False False False False False False False False False\n",
      " False False False False False False False False False False False False\n",
      " False False False False False  True False False False  True False False\n",
      " False False  True False False False False False False False False False\n",
      " False False False False False False False False False False  True False\n",
      " False False False False False  True False False False False False False\n",
      " False False False False False False False False False False False False\n",
      " False False False False  True False False False False  True  True False\n",
      " False False False False False False False False False False False False\n",
      "  True False False False False False False False False False False False\n",
      " False False False False False False False False False False False False\n",
      " False False False False  True False False False False False False False\n",
      " False False False False]\n"
     ]
    }
   ],
   "source": [
    "print A"
   ]
  },
  {
   "cell_type": "code",
   "execution_count": 77,
   "metadata": {},
   "outputs": [
    {
     "data": {
      "text/plain": [
       "array([11.01718071,  7.05782806, 13.7860981 , 14.8367285 , 14.30345399,\n",
       "       11.030882  , 10.57796922, 14.91444899, 14.77867109,  9.65202223,\n",
       "        8.62239185, 11.84167659, 14.93378743, 14.60599883,  8.24660316,\n",
       "       11.99423262,  5.2275104 ,  5.47612653, 13.84287936, 10.20037321,\n",
       "       12.02419159, 12.23165046, 13.76021792,  7.12351987,  5.2553926 ,\n",
       "       12.9297201 , 10.25287308,  9.61445435, 10.86355125,  6.38271569,\n",
       "        7.40748714, 11.67789757, 10.36965775, 11.35277749, 13.81029075,\n",
       "        9.31171089,  7.34053323, 12.5026186 , 14.4092831 , 14.86744594,\n",
       "        8.72563513, 12.74599034, 12.38932344,  5.24970304,  5.32118351,\n",
       "        7.82263133,  9.14939444, 12.69318282,  8.9480191 , 10.31121098,\n",
       "       10.76969892, 11.03309064, 14.83020277, 14.90296795,  8.31981285,\n",
       "       11.82298997,  5.29683477, 12.80368537, 10.31288684, 14.09350608,\n",
       "       10.7973955 , 13.01295483, 12.74598253, 11.38258417, 10.79336199,\n",
       "        6.29086826, 10.37600629, 11.14687926,  7.25229027, 10.48051975,\n",
       "       12.93377835,  7.41215444, 10.87793994,  8.32230319, 14.53450382,\n",
       "       11.82676452, 14.33077305, 14.85607696, 11.38207441, 14.61133871,\n",
       "       11.36657201,  9.6610722 , 13.59441023])"
      ]
     },
     "execution_count": 77,
     "metadata": {},
     "output_type": "execute_result"
    }
   ],
   "source": [
    "distance[A]"
   ]
  },
  {
   "cell_type": "code",
   "execution_count": 78,
   "metadata": {},
   "outputs": [
    {
     "data": {
      "text/plain": [
       "83"
      ]
     },
     "execution_count": 78,
     "metadata": {},
     "output_type": "execute_result"
    }
   ],
   "source": [
    "len(distance[A])"
   ]
  },
  {
   "cell_type": "code",
   "execution_count": null,
   "metadata": {},
   "outputs": [],
   "source": []
  }
 ],
 "metadata": {
  "kernelspec": {
   "display_name": "Python 2",
   "language": "python",
   "name": "python2"
  },
  "language_info": {
   "codemirror_mode": {
    "name": "ipython",
    "version": 2
   },
   "file_extension": ".py",
   "mimetype": "text/x-python",
   "name": "python",
   "nbconvert_exporter": "python",
   "pygments_lexer": "ipython2",
   "version": "2.7.14"
  }
 },
 "nbformat": 4,
 "nbformat_minor": 2
}
