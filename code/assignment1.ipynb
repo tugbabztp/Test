{
 "cells": [
  {
   "cell_type": "code",
   "execution_count": 50,
   "metadata": {},
   "outputs": [],
   "source": [
    "import numpy as np"
   ]
  },
  {
   "cell_type": "code",
   "execution_count": 51,
   "metadata": {},
   "outputs": [],
   "source": [
    "Lbox = 40  #size of the box\n",
    "\n",
    "\n",
    "ref = np.array([3,5,23])   # reference coordinate (x0, y0 , z0)\n"
   ]
  },
  {
   "cell_type": "code",
   "execution_count": 52,
   "metadata": {},
   "outputs": [
    {
     "data": {
      "text/plain": [
       "array([[0.34218386, 0.62209385],\n",
       "       [0.80636904, 0.6101245 ],\n",
       "       [0.50634583, 0.01534462],\n",
       "       ...,\n",
       "       [0.16836683, 0.26302723],\n",
       "       [0.92095411, 0.69572826],\n",
       "       [0.89857288, 0.22604399]])"
      ]
     },
     "execution_count": 52,
     "metadata": {},
     "output_type": "execute_result"
    }
   ],
   "source": [
    "np.random.rand(Ntot, 2)"
   ]
  },
  {
   "cell_type": "code",
   "execution_count": 53,
   "metadata": {},
   "outputs": [],
   "source": [
    "Ntot = 1000\n",
    "\n",
    "FAKE_DATA = Lbox * np.random.rand(Ntot, 3) "
   ]
  },
  {
   "cell_type": "markdown",
   "metadata": {},
   "source": [
    "# FIND THE DISTANCES OF ALL THE POINTS IN FAKE_DATA to ref"
   ]
  },
  {
   "cell_type": "code",
   "execution_count": 54,
   "metadata": {},
   "outputs": [],
   "source": [
    "distance = np.sum((ref[None,:]-FAKE_DATA)**2  ,  axis = 1 )**0.5"
   ]
  },
  {
   "cell_type": "markdown",
   "metadata": {},
   "source": [
    "# FIND THE NUMBER OF POINTS THAT ARE WITHIN [3,5] TO THE REFERENCE POINT"
   ]
  },
  {
   "cell_type": "code",
   "execution_count": 79,
   "metadata": {},
   "outputs": [],
   "source": [
    "#print distance"
   ]
  },
  {
   "cell_type": "code",
   "execution_count": 80,
   "metadata": {},
   "outputs": [
    {
     "name": "stdout",
     "output_type": "stream",
     "text": [
      "20.81727063554765\n"
     ]
    }
   ],
   "source": [
    "#print distance[3]"
   ]
  },
  {
   "cell_type": "code",
   "execution_count": 81,
   "metadata": {},
   "outputs": [
    {
     "data": {
      "text/plain": [
       "51.63788124883711"
      ]
     },
     "execution_count": 81,
     "metadata": {},
     "output_type": "execute_result"
    }
   ],
   "source": [
    "np.max(distance)"
   ]
  },
  {
   "cell_type": "code",
   "execution_count": 82,
   "metadata": {},
   "outputs": [
    {
     "data": {
      "text/plain": [
       "3.585793004652596"
      ]
     },
     "execution_count": 82,
     "metadata": {},
     "output_type": "execute_result"
    }
   ],
   "source": [
    "np.min(distance)"
   ]
  },
  {
   "cell_type": "code",
   "execution_count": 83,
   "metadata": {},
   "outputs": [],
   "source": [
    "A =(5 < distance) & ( distance < 15)"
   ]
  },
  {
   "cell_type": "code",
   "execution_count": 84,
   "metadata": {},
   "outputs": [],
   "source": [
    "#print A"
   ]
  },
  {
   "cell_type": "code",
   "execution_count": 77,
   "metadata": {},
   "outputs": [
    {
     "data": {
      "text/plain": [
       "array([11.01718071,  7.05782806, 13.7860981 , 14.8367285 , 14.30345399,\n",
       "       11.030882  , 10.57796922, 14.91444899, 14.77867109,  9.65202223,\n",
       "        8.62239185, 11.84167659, 14.93378743, 14.60599883,  8.24660316,\n",
       "       11.99423262,  5.2275104 ,  5.47612653, 13.84287936, 10.20037321,\n",
       "       12.02419159, 12.23165046, 13.76021792,  7.12351987,  5.2553926 ,\n",
       "       12.9297201 , 10.25287308,  9.61445435, 10.86355125,  6.38271569,\n",
       "        7.40748714, 11.67789757, 10.36965775, 11.35277749, 13.81029075,\n",
       "        9.31171089,  7.34053323, 12.5026186 , 14.4092831 , 14.86744594,\n",
       "        8.72563513, 12.74599034, 12.38932344,  5.24970304,  5.32118351,\n",
       "        7.82263133,  9.14939444, 12.69318282,  8.9480191 , 10.31121098,\n",
       "       10.76969892, 11.03309064, 14.83020277, 14.90296795,  8.31981285,\n",
       "       11.82298997,  5.29683477, 12.80368537, 10.31288684, 14.09350608,\n",
       "       10.7973955 , 13.01295483, 12.74598253, 11.38258417, 10.79336199,\n",
       "        6.29086826, 10.37600629, 11.14687926,  7.25229027, 10.48051975,\n",
       "       12.93377835,  7.41215444, 10.87793994,  8.32230319, 14.53450382,\n",
       "       11.82676452, 14.33077305, 14.85607696, 11.38207441, 14.61133871,\n",
       "       11.36657201,  9.6610722 , 13.59441023])"
      ]
     },
     "execution_count": 77,
     "metadata": {},
     "output_type": "execute_result"
    }
   ],
   "source": [
    "distance[A]"
   ]
  },
  {
   "cell_type": "code",
   "execution_count": 78,
   "metadata": {},
   "outputs": [
    {
     "data": {
      "text/plain": [
       "83"
      ]
     },
     "execution_count": 78,
     "metadata": {},
     "output_type": "execute_result"
    }
   ],
   "source": [
    "len(distance[A])"
   ]
  },
  {
   "cell_type": "markdown",
   "metadata": {},
   "source": [
    "# FIND THE AVERAGE NUMBER OF POINTS THAT ARE WITHIN [3,5] FROM OTHER POINTS"
   ]
  },
  {
   "cell_type": "code",
   "execution_count": null,
   "metadata": {},
   "outputs": [],
   "source": []
  }
 ],
 "metadata": {
  "kernelspec": {
   "display_name": "Python 2",
   "language": "python",
   "name": "python2"
  },
  "language_info": {
   "codemirror_mode": {
    "name": "ipython",
    "version": 2
   },
   "file_extension": ".py",
   "mimetype": "text/x-python",
   "name": "python",
   "nbconvert_exporter": "python",
   "pygments_lexer": "ipython2",
   "version": "2.7.15"
  }
 },
 "nbformat": 4,
 "nbformat_minor": 2
}
